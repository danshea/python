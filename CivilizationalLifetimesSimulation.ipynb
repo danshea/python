{
 "cells": [
  {
   "cell_type": "markdown",
   "metadata": {},
   "source": [
    "Dan Shea  \n",
    "2021-05-17  \n",
    "#### Simulating civilizational lifetimes\n",
    "I saw a fascinating talk by https://www.youtube.com/watch?v=LrrNu_m_9K4 which references this paper https://arxiv.org/abs/2010.12358\n",
    "\n",
    "Kipping D., Frank A., Scharf C. (2020) Contact Inequality -- First Contact Will Likely Be With An Older Civilization\n",
    "\n",
    "I decided to try my hand at whipping up a small simulation of my own. I briefly describe it below. The main intent was to construct something to play with `ipycanvas` in Jupyter Lab and to also see if I could draw similar conclusions _prior_ to reading the paper just by reasoning out a quick model.\n",
    "\n",
    "Below I define a civilization as having a lifetime drawn from an exponential distribution scaled by 0.1 the life of the universe. \n",
    "I chose an exponential to sample lifetimes, since if we consider the death of a civilization as the expected event, we could then use an exponential to model a Poisson point process (_i.e._ - a process in which events occur continuously and independently at a constant average rate).\n",
    "\n",
    "I re-paint a civilization red to signify if it lives beyond the median lifetime of all civilizations (_i.e._ - it is \"old\").  \n",
    "\n",
    "The simulation runs for 100,000 epochs (_i.e._ - The simulated universe's lifetime) and updates the civilizations at each epoch.  \n",
    "(You can change this, along with the number of civilizations modeled, etc. in the `Simulation` class below.)\n",
    "\n",
    "_Note:_ The animation requires `ipycanvas` which may be obtained/installed by reading https://ipycanvas.readthedocs.io/en/latest/installation.html\n",
    "\n",
    "It's a pretty neat way to add visualization to a notebook.\n",
    "\n",
    "__TODO__:  \n",
    "* Try using a `MultiCanvas` to track the proportion of \"old\" civilization to \"young\". It would be nice to display this value in the upper right corner.\n",
    "* Find some time to read through the paper and compare my model to the one presented, see where I deviated and maybe perform a few runs to gather data and perform a couple more analyses."
   ]
  },
  {
   "cell_type": "code",
   "execution_count": 1,
   "metadata": {},
   "outputs": [],
   "source": [
    "import numpy as np\n",
    "from ipycanvas import RoughCanvas, hold_canvas\n",
    "import time"
   ]
  },
  {
   "cell_type": "code",
   "execution_count": 2,
   "metadata": {},
   "outputs": [],
   "source": [
    "class Civilization:\n",
    "    def __init__(self, epochs):\n",
    "        self.lifetime = int(np.random.exponential() * (epochs/10))\n",
    "        self.age = 0\n",
    "        self.birth = np.random.choice(range(epochs))\n",
    "        self.alive = False\n",
    "        self.born  = False\n",
    "        self.died  = False\n",
    "    def update(self, now):\n",
    "        # If we are born now, update our status\n",
    "        if self.birth == now:\n",
    "            self.born  = True\n",
    "            self.alive = True\n",
    "        # If we die now, update our status\n",
    "        if self.birth + self.lifetime == now:\n",
    "            self.alive = False\n",
    "            self.died  = True\n",
    "        # If we're alive update our age\n",
    "        if self.alive:\n",
    "            self.age += 1\n",
    "    def __repr__(self):\n",
    "        return f'Civilization(birth={self.birth}, lifetime={self.lifetime})'"
   ]
  },
  {
   "cell_type": "code",
   "execution_count": 11,
   "metadata": {},
   "outputs": [],
   "source": [
    "class Simulation():\n",
    "    def __init__(self):\n",
    "        self.num_epochs = 100000\n",
    "        self.now = 0\n",
    "        self.num_civilizations = 100\n",
    "        # Number of rows and columns in the grid\n",
    "        self.num_rows = 10\n",
    "        self.num_cols = 10\n",
    "        # The radius of the civilization marker\n",
    "        self.civ_radius = 25\n",
    "        # The size of the roughCanvas used for visualization\n",
    "        self.Grid_width = (self.num_rows * 2 * self.civ_radius) + 2 * self.civ_radius\n",
    "        self.Grid_height = (self.num_rows * 2 * self.civ_radius) + 2 * self.civ_radius\n",
    "        # Where the grid starts\n",
    "        self.X_start = self.civ_radius\n",
    "        self.Y_start = self.civ_radius\n",
    "        \n",
    "        # Initial pool of civilizations\n",
    "        self.civilizations = [Civilization(self.num_epochs) for i in range(self.num_rows*self.num_cols)]\n",
    "        self.median_lifetime = np.median(np.array([c.lifetime for c in self.civilizations]))\n",
    "        \n",
    "    def step(self, canvas):\n",
    "        idx = 0\n",
    "        for c in self.civilizations:\n",
    "            draw=False\n",
    "            # update the civilization\n",
    "            c.update(self.now)\n",
    "            # If the civilization is alive it is to be drawn\n",
    "            if c.alive:\n",
    "                canvas.fill_style = 'blue'\n",
    "                canvas.rough_fill_style = 'hachure'\n",
    "                draw=True\n",
    "            # If the civilization is considered old, it is drawn differently\n",
    "            if c.alive and (c.age >= self.median_lifetime):\n",
    "                canvas.fill_style = 'red'\n",
    "                canvas.rough_fill_style = 'zigzag'\n",
    "                draw=True\n",
    "            # If the civilization is dead, it is drawn differently\n",
    "            if c.died:\n",
    "                canvas.fill_style = 'black'\n",
    "                canvas.rough_fill_style = 'cross-hatch'\n",
    "                draw=True\n",
    "            if draw:\n",
    "                x_pos = idx % self.num_cols\n",
    "                y_pos = idx // self.num_cols\n",
    "                x_draw = 2*self.civ_radius * (x_pos+1)\n",
    "                y_draw = 2*self.civ_radius * (y_pos+1)\n",
    "                canvas.fill_circle(x_draw, y_draw, self.civ_radius)\n",
    "            idx += 1\n",
    "        self.now += 1"
   ]
  },
  {
   "cell_type": "code",
   "execution_count": 12,
   "metadata": {},
   "outputs": [
    {
     "data": {
      "application/vnd.jupyter.widget-view+json": {
       "model_id": "8826d069ab514b2f861b3d1bfc490dae",
       "version_major": 2,
       "version_minor": 0
      },
      "text/plain": [
       "RoughCanvas(height=550, width=550)"
      ]
     },
     "metadata": {},
     "output_type": "display_data"
    }
   ],
   "source": [
    "sim = Simulation()\n",
    "canvas = RoughCanvas(width=sim.Grid_width, height=sim.Grid_height)\n",
    "canvas.roughness = 2\n",
    "canvas.line_width = 2\n",
    "display(canvas)"
   ]
  },
  {
   "cell_type": "code",
   "execution_count": null,
   "metadata": {},
   "outputs": [],
   "source": [
    "for i in range(sim.num_epochs):\n",
    "    with hold_canvas(canvas):\n",
    "        canvas.clear()\n",
    "        sim.step(canvas)\n",
    "        time.sleep(0.02)\n",
    "        "
   ]
  },
  {
   "cell_type": "code",
   "execution_count": null,
   "metadata": {},
   "outputs": [],
   "source": []
  }
 ],
 "metadata": {
  "kernelspec": {
   "display_name": "Python 3",
   "language": "python",
   "name": "python3"
  },
  "language_info": {
   "codemirror_mode": {
    "name": "ipython",
    "version": 3
   },
   "file_extension": ".py",
   "mimetype": "text/x-python",
   "name": "python",
   "nbconvert_exporter": "python",
   "pygments_lexer": "ipython3",
   "version": "3.8.5"
  }
 },
 "nbformat": 4,
 "nbformat_minor": 4
}
