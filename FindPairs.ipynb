{
 "cells": [
  {
   "cell_type": "markdown",
   "metadata": {},
   "source": [
    "__Name: Dan Shea__  \n",
    "__Date: 2021-05-08__  \n",
    "\n",
    "##### Finding word pairs that comprise a target word\n",
    "Given a word and a space separated string of words that form the dictionary, write a function `FindPairs(input_list)` that finds possible _word pairs_ that could reconstruct the target word when concatenated.\n",
    "\n",
    "If no pairs exist in the dictionary that could concatenate to form the target word, output the empty list `[]`.\n",
    "\n",
    "You may assume that the input dictionary will contain no duplicates.\n",
    "\n",
    "###### Examples\n",
    "\n",
    "Input: `['baseball', 'foo base bar chumbawumba ball bas eba eball']`  \n",
    "\n",
    "Output: `[('base','ball'), ('bas','eball')]`"
   ]
  },
  {
   "cell_type": "code",
   "execution_count": 1,
   "metadata": {},
   "outputs": [],
   "source": [
    "import re"
   ]
  },
  {
   "cell_type": "code",
   "execution_count": 2,
   "metadata": {},
   "outputs": [],
   "source": [
    "def FindPairs(input_list):\n",
    "    # First, break the input into two variables, the target_word, and the corpus\n",
    "    target_word, corpus = input_list\n",
    "    # Split the corpus up into a list of words\n",
    "    corpus = corpus.split(' ')\n",
    "    # Next, filter out words in the corpus that are equal to, or longer than, the target_word\n",
    "    corpus = list(filter(lambda x: len(x) < len(target_word), corpus))\n",
    "    # For each word left in the corpus, perform a regex search against the target_word\n",
    "    # If a match is present, we keep the span of the match for later processing\n",
    "    matches = dict()\n",
    "    for word in corpus:\n",
    "        match = re.search(word, target_word)\n",
    "        if match:\n",
    "             matches[word]= match.span()\n",
    "    # If we found no matches we may return an empty list now\n",
    "    if matches is None:\n",
    "        return list()\n",
    "    # Otherwise, we now grab all matches whose range starts at position 0, the start of the target_word\n",
    "    start_candidates = list(filter(lambda x: x[1][0] == 0, matches.items()))\n",
    "    # For the end candidates, the final index in the range should be equal to the length of the target_string\n",
    "    end_candidates = list(filter(lambda x: x[1][1] == len(target_word), matches.items()))\n",
    "    # If there are no start candidates or end_candidates, we may return an empty list now\n",
    "    if (len(start_candidates) == 0) or (len(end_candidates) == 0):\n",
    "        return list()\n",
    "    # A list to store any pairs we may find\n",
    "    word_pairs = list()\n",
    "    for sc in start_candidates:\n",
    "        for ec in end_candidates:\n",
    "            # If the end index of the start_candiate matches the start index of the end_candidate\n",
    "            # we have found a pair and add it to the list\n",
    "            if sc[1][1] == ec[1][0]:\n",
    "                word_pairs.append((sc[0],ec[0]))\n",
    "    return word_pairs"
   ]
  },
  {
   "cell_type": "code",
   "execution_count": 3,
   "metadata": {},
   "outputs": [
    {
     "data": {
      "text/plain": [
       "[('base', 'ball'), ('bas', 'eball')]"
      ]
     },
     "execution_count": 3,
     "metadata": {},
     "output_type": "execute_result"
    }
   ],
   "source": [
    "FindPairs(['baseball', 'foo base bar chumbawumba ball bas eba eball'])"
   ]
  },
  {
   "cell_type": "code",
   "execution_count": 4,
   "metadata": {},
   "outputs": [
    {
     "data": {
      "text/plain": [
       "[('foo', 'bar'), ('f', 'oobar')]"
      ]
     },
     "execution_count": 4,
     "metadata": {},
     "output_type": "execute_result"
    }
   ],
   "source": [
    "FindPairs(['foobar', 'foo bar foobars barfoo f oobar'])"
   ]
  },
  {
   "cell_type": "code",
   "execution_count": 5,
   "metadata": {},
   "outputs": [
    {
     "data": {
      "text/plain": [
       "[]"
      ]
     },
     "execution_count": 5,
     "metadata": {},
     "output_type": "execute_result"
    }
   ],
   "source": [
    "FindPairs(['nomatch', 'there are zero matches in this dictionary'])"
   ]
  },
  {
   "cell_type": "code",
   "execution_count": null,
   "metadata": {},
   "outputs": [],
   "source": []
  }
 ],
 "metadata": {
  "kernelspec": {
   "display_name": "Python 3",
   "language": "python",
   "name": "python3"
  },
  "language_info": {
   "codemirror_mode": {
    "name": "ipython",
    "version": 3
   },
   "file_extension": ".py",
   "mimetype": "text/x-python",
   "name": "python",
   "nbconvert_exporter": "python",
   "pygments_lexer": "ipython3",
   "version": "3.8.5"
  }
 },
 "nbformat": 4,
 "nbformat_minor": 4
}
