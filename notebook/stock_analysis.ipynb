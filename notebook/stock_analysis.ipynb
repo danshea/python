{
 "metadata": {
  "name": "stock_analysis"
 }, 
 "nbformat": 2, 
 "worksheets": [
  {
   "cells": [
    {
     "cell_type": "code", 
     "collapsed": true, 
     "input": [
      "from pylab import matplotlib as plt", 
      "import urllib2", 
      "import csv", 
      "import datetime", 
      "import time"
     ], 
     "language": "python", 
     "outputs": [], 
     "prompt_number": 19
    }, 
    {
     "cell_type": "code", 
     "collapsed": true, 
     "input": [
      "def fetch_data(symbol='IBM'):", 
      "    '''", 
      "    Grab historical pricing information from Yahoo Finance for a given ticker", 
      "    symbol.", 
      "    '''", 
      "    # Set up arguments to pass to the Yahoo Finance Website", 
      "    # In our case we will examine 10 years of historical data", 
      "    kwargs = { 'symbol': symbol,", 
      "               'start_month': '01',", 
      "               'start_day': '01',", 
      "               'start_year': '2002',", 
      "               'end_month': '12',", 
      "               'end_day': '31',", 
      "               'end_year': '2012',", 
      "             }", 
      "    # Format the url", 
      "    urlstring = 'http://ichart.finance.yahoo.com/table.csv?s={symbol}&a={start_month}&b={start_day}&c={start_year}&d={end_month}&e={end_day}&f={end_year}&g=d&ignore=.csv'.format(**kwargs)", 
      "    # grab the data as a csv and place it into a list", 
      "    data = [row for row in csv.reader(urllib2.urlopen(urlstring))]", 
      "    # pop off the csv column headings", 
      "    headings = data.pop(0)", 
      "    return (headings, data)", 
      ""
     ], 
     "language": "python", 
     "outputs": [], 
     "prompt_number": 20
    }, 
    {
     "cell_type": "code", 
     "collapsed": false, 
     "input": [
      "headings, data = fetch_data('C')"
     ], 
     "language": "python", 
     "outputs": [], 
     "prompt_number": 30
    }, 
    {
     "cell_type": "code", 
     "collapsed": false, 
     "input": [
      "headings"
     ], 
     "language": "python", 
     "outputs": [
      {
       "output_type": "pyout", 
       "prompt_number": 22, 
       "text": [
        "['Date', 'Open', 'High', 'Low', 'Close', 'Volume', 'Adj Close']"
       ]
      }
     ], 
     "prompt_number": 22
    }, 
    {
     "cell_type": "code", 
     "collapsed": false, 
     "input": [
      "plt.pyplot.plot([datetime.datetime.strptime(d[0], '%Y-%m-%d') for d in data],[d[-1] for d in data])"
     ], 
     "language": "python", 
     "outputs": [
      {
       "output_type": "pyout", 
       "prompt_number": 31, 
       "text": [
        "[<matplotlib.lines.Line2D at 0x9b676cc>]"
       ]
      }, 
      {
       "output_type": "display_data", 
       "png": "[encoded data removed]"
      }
     ], 
     "prompt_number": 31
    }, 
    {
     "cell_type": "code", 
     "collapsed": true, 
     "input": [], 
     "language": "python", 
     "outputs": [], 
     "prompt_number": 23
    }
   ]
  }
 ]
}