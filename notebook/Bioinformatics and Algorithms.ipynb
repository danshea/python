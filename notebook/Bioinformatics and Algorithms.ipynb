{
 "metadata": {
  "name": "Bioinformatics and Algorithms"
 },
 "nbformat": 3,
 "nbformat_minor": 0,
 "worksheets": [
  {
   "cells": [
    {
     "cell_type": "code",
     "collapsed": false,
     "input": [
      "import collections\n",
      "import math"
     ],
     "language": "python",
     "metadata": {},
     "outputs": [],
     "prompt_number": 29
    },
    {
     "cell_type": "code",
     "collapsed": false,
     "input": [
      "def change_due(amount=0.00):\n",
      "    \"\"\"return optimal change denominations for a given amount. return empty dict if no change.\"\"\"\n",
      "    # divide the amount by ever increasing smaller denominations to arrive at the amount of change to return\n",
      "    denominations = [ 'hundreds', 'fifties', 'twenties', 'tens', 'fives', 'singles', 'quarters', 'dimes', 'nickels', 'pennies' ]\n",
      "    vals = [ 100.00, 50.00, 20.00, 10.00, 5.00, 1.00, 0.25, 0.10, 0.05, 0.01]\n",
      "    change = collections.defaultdict(int)\n",
      "    for denomination, val in zip(denominations, vals):\n",
      "        if amount >= val:\n",
      "            change[denomination] = math.floor(amount / val)\n",
      "            amount = round(amount - change[denomination] * val, 2)\n",
      "    return change"
     ],
     "language": "python",
     "metadata": {},
     "outputs": [],
     "prompt_number": 73
    },
    {
     "cell_type": "code",
     "collapsed": false,
     "input": [
      "c1 = change_due(142.27)"
     ],
     "language": "python",
     "metadata": {},
     "outputs": [],
     "prompt_number": 74
    },
    {
     "cell_type": "code",
     "collapsed": false,
     "input": [
      "print(c1)"
     ],
     "language": "python",
     "metadata": {},
     "outputs": [
      {
       "output_type": "stream",
       "stream": "stdout",
       "text": [
        "defaultdict(<class 'int'>, {'quarters': 1, 'pennies': 2, 'hundreds': 1, 'singles': 2, 'twenties': 2})\n"
       ]
      }
     ],
     "prompt_number": 75
    },
    {
     "cell_type": "code",
     "collapsed": false,
     "input": [
      "c2 = change_due()"
     ],
     "language": "python",
     "metadata": {},
     "outputs": [],
     "prompt_number": 76
    },
    {
     "cell_type": "code",
     "collapsed": false,
     "input": [
      "print(c2)"
     ],
     "language": "python",
     "metadata": {},
     "outputs": [
      {
       "output_type": "stream",
       "stream": "stdout",
       "text": [
        "defaultdict(<class 'int'>, {})\n"
       ]
      }
     ],
     "prompt_number": 77
    },
    {
     "cell_type": "code",
     "collapsed": false,
     "input": [],
     "language": "python",
     "metadata": {},
     "outputs": []
    }
   ],
   "metadata": {}
  }
 ]
}