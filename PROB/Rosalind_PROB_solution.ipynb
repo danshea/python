{
 "cells": [
  {
   "cell_type": "markdown",
   "metadata": {},
   "source": [
    "Dan Shea  \n",
    "2021-06-02  \n",
    "#### Introduction to Random Strings\n",
    "##### Problem\n",
    "\n",
    "An array is a structure containing an ordered collection of objects (numbers, strings, other arrays, etc.). We let $A[k]$ denote the $k^{th}$ value in array $A$. You may like to think of an array as simply a matrix having only one row.\n",
    "\n",
    "A random string is constructed so that the probability of choosing each subsequent symbol is based on a fixed underlying symbol frequency.\n",
    "\n",
    "GC-content offers us natural symbol frequencies for constructing random DNA strings. If the GC-content is $x$, then we set the symbol frequencies of C and G equal to $\\frac{x}{2}$ and the symbol frequencies of A and T equal to $\\frac{1-x}{2}$. For example, if the GC-content is $40\\%$, then as we construct the string, the next symbol is 'G'/'C' with probability $0.2$, and the next symbol is 'A'/'T' with probability $0.3$.\n",
    "\n",
    "In practice, many probabilities wind up being very small. In order to work with small probabilities, we may plug them into a function that \"blows them up\" for the sake of comparison. Specifically, the common logarithm of $x$ (defined for $x \\gt 0$ and denoted $log_{10}(x)$) is the exponent to which we must raise $10$ to obtain $x$.\n",
    "\n",
    "See Figure 1 for a graph of the common logarithm function $y=log_{10}(x)$. In this graph, we can see that the logarithm of $x$-values between $0$ and $1$ always winds up mapping to $y$-values between $−\\inf$ and $0$: $x$-values near $0$ have logarithms close to $-\\inf$, and $x$-values close to $1$ have logarithms close to $0$. Thus, we will select the common logarithm as our function to \"blow up\" small probability values for comparison.\n",
    "\n",
    "__Given:__ A DNA string s of length at most 100 bp and an array A containing at most 20 numbers between 0 and 1.\n",
    "\n",
    "__Return:__ An array $B$ having the same length as $A$ in which $B[k]$ represents the common logarithm of the probability that a random string constructed with the GC-content found in $A[k]$ will match $s$ exactly.\n",
    "\n",
    "##### Sample Dataset\n",
    "```\n",
    "ACGATACAA\n",
    "0.129 0.287 0.423 0.476 0.641 0.742 0.783\n",
    "```\n",
    "##### Sample Output\n",
    "```\n",
    "-5.737 -5.217 -5.263 -5.360 -5.958 -6.628 -7.009\n",
    "```"
   ]
  },
  {
   "cell_type": "code",
   "execution_count": 1,
   "metadata": {},
   "outputs": [],
   "source": [
    "import numpy as np\n",
    "def compute_prob(s, gc_content):\n",
    "    Pgc = gc_content / 2.0\n",
    "    Pat = (1-gc_content) / 2.0\n",
    "    probability = []\n",
    "    for base in s:\n",
    "        if base in {'A','T'}:\n",
    "            probability.append(np.log10(Pat))\n",
    "        else:\n",
    "            probability.append(np.log10(Pgc))\n",
    "    return sum(probability)"
   ]
  },
  {
   "cell_type": "code",
   "execution_count": 2,
   "metadata": {},
   "outputs": [
    {
     "data": {
      "text/plain": [
       "-5.7373919000321045"
      ]
     },
     "execution_count": 2,
     "metadata": {},
     "output_type": "execute_result"
    }
   ],
   "source": [
    "compute_prob('ACGATACAA', 0.129)"
   ]
  },
  {
   "cell_type": "code",
   "execution_count": 3,
   "metadata": {},
   "outputs": [],
   "source": [
    "import sys\n",
    "def parse_input_print_ans(filename):\n",
    "    with open(filename, 'r') as fh:\n",
    "        seq = next(fh).strip()\n",
    "        gc_contents = list(map(float, next(fh).strip().split(' ')))\n",
    "        for gc_content in gc_contents:\n",
    "            sys.stdout.write(f'{compute_prob(seq, gc_content):.3f} ')"
   ]
  },
  {
   "cell_type": "code",
   "execution_count": 4,
   "metadata": {},
   "outputs": [
    {
     "name": "stdout",
     "output_type": "stream",
     "text": [
      "-5.737 -5.217 -5.263 -5.360 -5.958 -6.628 -7.009 "
     ]
    }
   ],
   "source": [
    "parse_input_print_ans('sample.txt')"
   ]
  },
  {
   "cell_type": "code",
   "execution_count": 5,
   "metadata": {},
   "outputs": [
    {
     "name": "stdout",
     "output_type": "stream",
     "text": [
      "-84.885 -78.204 -69.196 -66.846 -63.868 -60.724 -59.129 -58.873 -58.886 -60.294 -60.872 -63.356 -67.238 -83.856 "
     ]
    }
   ],
   "source": [
    "parse_input_print_ans('rosalind_prob.txt')"
   ]
  },
  {
   "cell_type": "code",
   "execution_count": null,
   "metadata": {},
   "outputs": [],
   "source": []
  }
 ],
 "metadata": {
  "kernelspec": {
   "display_name": "Python 3",
   "language": "python",
   "name": "python3"
  },
  "language_info": {
   "codemirror_mode": {
    "name": "ipython",
    "version": 3
   },
   "file_extension": ".py",
   "mimetype": "text/x-python",
   "name": "python",
   "nbconvert_exporter": "python",
   "pygments_lexer": "ipython3",
   "version": "3.8.5"
  }
 },
 "nbformat": 4,
 "nbformat_minor": 4
}
