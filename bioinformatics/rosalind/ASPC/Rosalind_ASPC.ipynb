{
 "cells": [
  {
   "cell_type": "markdown",
   "metadata": {},
   "source": [
    "Dan Shea  \n",
    "2021-06-18  \n",
    "\n",
    "#### Problem\n",
    "In \"Counting Subsets\", we saw that the total number of subsets of a set $S$ containing $n$ elements is equal to $2^n$.\n",
    "\n",
    "However, if we intend to count the total number of subsets of $S$ having a fixed size $k$, then we use the combination statistic $C(n,k)$, also written $\\left(^{n}_{k}\\right)$.\n",
    "\n",
    "__Given:__ Positive integers $n$ and $m$ with $0 \\leq m \\leq n \\leq 2000$.\n",
    "\n",
    "__Return:__ The sum of combinations $C(n,k)$ for all $k$ satisfying $m \\leq k \\leq n$, modulo $1,000,000$. In shorthand, $\\sum^{n}_{k=m}\\left(^{n}_{k}\\right)$.\n",
    "\n",
    "##### Sample Dataset\n",
    "```\n",
    "6 3\n",
    "```\n",
    "##### Sample Output\n",
    "```\n",
    "42\n",
    "```"
   ]
  },
  {
   "cell_type": "code",
   "execution_count": 1,
   "metadata": {},
   "outputs": [],
   "source": [
    "from math import factorial\n",
    "def C(n, r):\n",
    "    # Note: we make use of floor division to ensure we always keep the large values as ints otherwise an overflow may result\n",
    "    # when the number is converted to float. We may do this because a combination will never return a non-integer value.\n",
    "    return int(factorial(n) // (factorial(r)*factorial(n-r)))"
   ]
  },
  {
   "cell_type": "code",
   "execution_count": 2,
   "metadata": {},
   "outputs": [],
   "source": [
    "def parse_input_print_ans(filename):\n",
    "    with open(filename, 'r') as fh:\n",
    "        n,m = next(fh).strip().split(' ')\n",
    "        n = int(n)\n",
    "        m = int(m)\n",
    "        total = sum([C(n,k) for k in range(m,n+1)])\n",
    "        print(total % 1000000)"
   ]
  },
  {
   "cell_type": "code",
   "execution_count": 3,
   "metadata": {},
   "outputs": [
    {
     "name": "stdout",
     "output_type": "stream",
     "text": [
      "42\n"
     ]
    }
   ],
   "source": [
    "parse_input_print_ans('sample.txt')"
   ]
  },
  {
   "cell_type": "code",
   "execution_count": 4,
   "metadata": {},
   "outputs": [
    {
     "name": "stdout",
     "output_type": "stream",
     "text": [
      "664128\n"
     ]
    }
   ],
   "source": [
    "parse_input_print_ans('rosalind_aspc.txt')"
   ]
  },
  {
   "cell_type": "code",
   "execution_count": null,
   "metadata": {},
   "outputs": [],
   "source": []
  }
 ],
 "metadata": {
  "kernelspec": {
   "display_name": "Python 3",
   "language": "python",
   "name": "python3"
  },
  "language_info": {
   "codemirror_mode": {
    "name": "ipython",
    "version": 3
   },
   "file_extension": ".py",
   "mimetype": "text/x-python",
   "name": "python",
   "nbconvert_exporter": "python",
   "pygments_lexer": "ipython3",
   "version": "3.8.5"
  }
 },
 "nbformat": 4,
 "nbformat_minor": 4
}
