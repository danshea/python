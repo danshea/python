{
 "cells": [
  {
   "cell_type": "markdown",
   "metadata": {},
   "source": [
    "#### Problem\n",
    "The graph theoretical analogue of the quandary stated in the introduction above is that if we have an RNA string $s$ that does not have the same number of occurrences of 'C' as 'G' and the same number of occurrences of 'A' as 'U', then the bonding graph of $s$ cannot possibly possess a perfect matching among its basepair edges. In fact, most bonding graphs will not contain a perfect matching.\n",
    "\n",
    "In light of this fact, we define a maximum matching in a graph as a matching containing as many edges as possible.\n",
    "\n",
    "A maximum matching of basepair edges will correspond to a way of forming as many base pairs as possible in an RNA string.\n",
    "\n",
    "__Given:__ An RNA string $s$ of length at most $100$.\n",
    "\n",
    "__Return:__ The total possible number of maximum matchings of basepair edges in the bonding graph of $s$.\n",
    "\n",
    "##### Sample Dataset\n",
    "```\n",
    ">Rosalind_92\n",
    "AUGCUUC\n",
    "```\n",
    "##### Sample Output\n",
    "```\n",
    "6\n",
    "```"
   ]
  },
  {
   "cell_type": "code",
   "execution_count": 1,
   "metadata": {},
   "outputs": [],
   "source": [
    "from Bio import SeqIO\n",
    "def parse_file_print_ans(filename):\n",
    "    with open(filename, 'r') as fh:\n",
    "        seqio = SeqIO.parse(fh, 'fasta')\n",
    "        seq = next(seqio).seq\n",
    "        bases = {'A': 0, 'G': 0, 'U': 0, 'C': 0}\n",
    "        for b in seq:\n",
    "            bases[b] += 1\n",
    "            \n",
    "        AU = 1\n",
    "        if bases['A'] > bases['U']:\n",
    "            i,j = bases['A'],bases['U']\n",
    "        else:\n",
    "            i,j = bases['U'],bases['A']\n",
    "        for n in range(j):\n",
    "            AU *= i\n",
    "            i -= 1\n",
    "        \n",
    "        GC = 1\n",
    "        if bases['G'] > bases['C']:\n",
    "            i,j = bases['G'],bases['C']\n",
    "        else:\n",
    "            i,j = bases['C'],bases['G']\n",
    "        for n in range(j):\n",
    "            AU *= i\n",
    "            i -= 1\n",
    "        return AU * GC"
   ]
  },
  {
   "cell_type": "code",
   "execution_count": 2,
   "metadata": {},
   "outputs": [
    {
     "data": {
      "text/plain": [
       "6"
      ]
     },
     "execution_count": 2,
     "metadata": {},
     "output_type": "execute_result"
    }
   ],
   "source": [
    "parse_file_print_ans('sample.txt')"
   ]
  },
  {
   "cell_type": "code",
   "execution_count": 3,
   "metadata": {},
   "outputs": [
    {
     "data": {
      "text/plain": [
       "19704946470982394738352787797705004312166400000000000"
      ]
     },
     "execution_count": 3,
     "metadata": {},
     "output_type": "execute_result"
    }
   ],
   "source": [
    "parse_file_print_ans('rosalind_mmch.txt')"
   ]
  },
  {
   "cell_type": "markdown",
   "metadata": {},
   "source": [
    "##### Solution\n",
    "First, we determine how many of each base exist in the RNA sequence.  \n",
    "We may then see that for each nucleotide pairing (_i.e._ {A,U} and {G,C}) that the possible bondings may be computed as follows:\n",
    "\n",
    "(Using 'AUGCUUC' as our example)\n",
    "\n",
    "There are 3 U bases and 1 A base, meaning we have 3 ways of selecting U to pair with the single A.  \n",
    "Like wise, there are 2 C bases and 1 G base, meaning we have 2 ways of selecting C to pair with G.  \n",
    "We then multiply $3 \\times 2$ to arrive at $6$ as the possible number of maximum matchings of basepair edges in the bonding graph of $s$.\n",
    "\n",
    "To illustrate this with a more non-trivial sequence _e.g._ - 'AUGACUUCAU'  \n",
    "\n",
    "3 Adenine and 4 Uracil $4 \\times 3 \\times 2$ (_i.e._ - 4 U's for the first A, 3 U's for the second A, 2 U's for the third A)  \n",
    "1 Guanine and 2 Cytosine $2$ (_i.e._ - 2 C's for the single G)  \n",
    "$(4 \\times 3 \\times 2) \\times 2 = 48$"
   ]
  },
  {
   "cell_type": "code",
   "execution_count": null,
   "metadata": {},
   "outputs": [],
   "source": []
  }
 ],
 "metadata": {
  "kernelspec": {
   "display_name": "Python 3",
   "language": "python",
   "name": "python3"
  },
  "language_info": {
   "codemirror_mode": {
    "name": "ipython",
    "version": 3
   },
   "file_extension": ".py",
   "mimetype": "text/x-python",
   "name": "python",
   "nbconvert_exporter": "python",
   "pygments_lexer": "ipython3",
   "version": "3.8.5"
  }
 },
 "nbformat": 4,
 "nbformat_minor": 4
}
