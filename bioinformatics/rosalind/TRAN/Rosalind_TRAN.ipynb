{
 "cells": [
  {
   "cell_type": "markdown",
   "metadata": {},
   "source": [
    "Dan Shea  \n",
    "2021-06-06  \n",
    "\n",
    "#### Problem\n",
    "For DNA strings $s_1$ and $s_2$ having the same length, their transition/transversion ratio $R(s_1,s_2)$ is the ratio of the total number of transitions to the total number of transversions, where symbol substitutions are inferred from mismatched corresponding symbols as when calculating Hamming distance (see \"Counting Point Mutations\").\n",
    "\n",
    "__Given:__ Two DNA strings $s_1$ and $s_2$ of equal length (at most 1 kbp).\n",
    "\n",
    "__Return:__ The transition/transversion ratio $R(s_1,s_2)$.\n",
    "\n",
    "##### Sample Dataset\n",
    "```\n",
    ">Rosalind_0209\n",
    "GCAACGCACAACGAAAACCCTTAGGGACTGGATTATTTCGTGATCGTTGTAGTTATTGGA\n",
    "AGTACGGGCATCAACCCAGTT\n",
    ">Rosalind_2200\n",
    "TTATCTGACAAAGAAAGCCGTCAACGGCTGGATAATTTCGCGATCGTGCTGGTTACTGGC\n",
    "GGTACGAGTGTTCCTTTGGGT\n",
    "```\n",
    "##### Sample Output\n",
    "```\n",
    "1.21428571429\n",
    "```"
   ]
  },
  {
   "cell_type": "code",
   "execution_count": 1,
   "metadata": {},
   "outputs": [],
   "source": [
    "from Bio import SeqIO\n",
    "def parse_input_print_ans(filename):\n",
    "    with open(filename, 'r') as fh:\n",
    "        seqio = SeqIO.parse(filename, 'fasta')\n",
    "        A = next(seqio).seq\n",
    "        B = next(seqio).seq\n",
    "        Ts = 0\n",
    "        Tv = 0\n",
    "        num = len(A)\n",
    "        for a, b in zip(A, B):\n",
    "            if a in ['A','G'] and b in ['T','C']:\n",
    "                Tv += 1\n",
    "            if a in ['T','C'] and b in ['A','G']:\n",
    "                Tv += 1\n",
    "            if a in ['A'] and b in ['G']:\n",
    "                Ts += 1\n",
    "            if a in ['G'] and b in ['A']:\n",
    "                Ts += 1\n",
    "            if a in ['T'] and b in ['C']:\n",
    "                Ts += 1\n",
    "            if a in ['C'] and b in ['T']:\n",
    "                Ts += 1\n",
    "        return Ts / Tv"
   ]
  },
  {
   "cell_type": "code",
   "execution_count": 2,
   "metadata": {},
   "outputs": [
    {
     "data": {
      "text/plain": [
       "1.2142857142857142"
      ]
     },
     "execution_count": 2,
     "metadata": {},
     "output_type": "execute_result"
    }
   ],
   "source": [
    "parse_input_print_ans('sample.txt')"
   ]
  },
  {
   "cell_type": "code",
   "execution_count": 3,
   "metadata": {},
   "outputs": [
    {
     "data": {
      "text/plain": [
       "2.0344827586206895"
      ]
     },
     "execution_count": 3,
     "metadata": {},
     "output_type": "execute_result"
    }
   ],
   "source": [
    "parse_input_print_ans('rosalind_tran.txt')"
   ]
  },
  {
   "cell_type": "code",
   "execution_count": null,
   "metadata": {},
   "outputs": [],
   "source": []
  }
 ],
 "metadata": {
  "kernelspec": {
   "display_name": "Python 3",
   "language": "python",
   "name": "python3"
  },
  "language_info": {
   "codemirror_mode": {
    "name": "ipython",
    "version": 3
   },
   "file_extension": ".py",
   "mimetype": "text/x-python",
   "name": "python",
   "nbconvert_exporter": "python",
   "pygments_lexer": "ipython3",
   "version": "3.8.5"
  }
 },
 "nbformat": 4,
 "nbformat_minor": 4
}
