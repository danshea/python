{
 "cells": [
  {
   "cell_type": "markdown",
   "metadata": {},
   "source": [
    "Dan Shea  \n",
    "2021-06-03  \n",
    "\n",
    "#### Problem\n",
    "To allow for the presence of its varying forms, a protein motif is represented by a shorthand as follows: $[XY]$ means \"either X or Y\" and $\\{X\\}$ means \"any amino acid except X.\" For example, the N-glycosylation motif is written as $N\\{P\\}[ST]\\{P\\}$.\n",
    "\n",
    "You can see the complete description and features of a particular protein by its access ID \"uniprot_id\" in the UniProt database, by inserting the ID number into:\n",
    "\n",
    "http://www.uniprot.org/uniprot/uniprot_id\n",
    "\n",
    "Alternatively, you can obtain a protein sequence in FASTA format by following:\n",
    "\n",
    "http://www.uniprot.org/uniprot/uniprot_id.fasta\n",
    "\n",
    "For example, the data for protein B5ZC00 can be found at http://www.uniprot.org/uniprot/B5ZC00.fasta\n",
    "\n",
    "__Given:__ At most 15 UniProt Protein Database access IDs.\n",
    "\n",
    "__Return:__ For each protein possessing the N-glycosylation motif, output its given access ID followed by a list of locations in the protein string where the motif can be found.\n",
    "\n",
    "##### Sample Dataset\n",
    "```\n",
    "A2Z669\n",
    "B5ZC00\n",
    "P07204_TRBM_HUMAN\n",
    "P20840_SAG1_YEAST\n",
    "```\n",
    "##### Sample Output\n",
    "```\n",
    "B5ZC00\n",
    "85 118 142 306 395\n",
    "P07204_TRBM_HUMAN\n",
    "47 115 116 382 409\n",
    "P20840_SAG1_YEAST\n",
    "79 109 135 248 306 348 364 402 485 501 614\n",
    "```"
   ]
  },
  {
   "cell_type": "code",
   "execution_count": 14,
   "metadata": {},
   "outputs": [],
   "source": [
    "import regex as re\n",
    "import requests\n",
    "from time import sleep"
   ]
  },
  {
   "cell_type": "code",
   "execution_count": 15,
   "metadata": {},
   "outputs": [],
   "source": [
    "uri = 'http://www.uniprot.org/uniprot/'\n",
    "ext = '.fasta'\n",
    "\n",
    "def get_protein(prot_id):\n",
    "    url = f'{uri}{prot_id}{ext}'\n",
    "    r = requests.get(url)\n",
    "    return r\n",
    "\n",
    "def parse_request(req):\n",
    "    lines = req.text.split('\\n')\n",
    "    header = lines[0]\n",
    "    sequence = ''.join(lines[1:])\n",
    "    return sequence\n",
    "\n",
    "def find_motif(seq, motif=r'N[^P][ST][^P]'):\n",
    "    match = list(re.finditer(motif, seq, overlapped=True))\n",
    "    return list(map(lambda m: m.start() + 1, match))\n"
   ]
  },
  {
   "cell_type": "code",
   "execution_count": 16,
   "metadata": {},
   "outputs": [],
   "source": [
    "def parse_input_print_ans(filename):\n",
    "    with open(filename, 'r') as fh:\n",
    "        for line in fh:\n",
    "            line = line.strip()\n",
    "            result = find_motif(parse_request(get_protein(line)))\n",
    "            if result != []:\n",
    "                print(line)\n",
    "                print(' '.join(map(str, result)))\n",
    "            sleep(1)"
   ]
  },
  {
   "cell_type": "code",
   "execution_count": 17,
   "metadata": {},
   "outputs": [
    {
     "name": "stdout",
     "output_type": "stream",
     "text": [
      "B5ZC00\n",
      "85 118 142 306 395\n",
      "P07204_TRBM_HUMAN\n",
      "47 115 116 382 409\n",
      "P20840_SAG1_YEAST\n",
      "79 109 135 248 306 348 364 402 485 501 614\n"
     ]
    }
   ],
   "source": [
    "parse_input_print_ans('sample.txt')"
   ]
  },
  {
   "cell_type": "code",
   "execution_count": 19,
   "metadata": {},
   "outputs": [
    {
     "name": "stdout",
     "output_type": "stream",
     "text": [
      "A2A2Y4\n",
      "90 359 407\n",
      "Q9QSP4\n",
      "196 250 326 443\n",
      "P19827_ITH1_HUMAN\n",
      "285 588 750\n",
      "P01042_KNH_HUMAN\n",
      "48 169 205 294\n",
      "P81824_PABJ_BOTJA\n",
      "25\n",
      "P02974_FMM1_NEIGO\n",
      "67 68 121\n",
      "P01045_KNH2_BOVIN\n",
      "47 87 168 169 197 204 280\n",
      "P04233_HG2A_HUMAN\n",
      "130 136 256 270\n",
      "P47002\n",
      "35 552 608\n",
      "Q50228\n",
      "55 228\n"
     ]
    }
   ],
   "source": [
    "parse_input_print_ans('rosalind_mprt.txt')"
   ]
  },
  {
   "cell_type": "code",
   "execution_count": null,
   "metadata": {},
   "outputs": [],
   "source": []
  }
 ],
 "metadata": {
  "kernelspec": {
   "display_name": "Python 3",
   "language": "python",
   "name": "python3"
  },
  "language_info": {
   "codemirror_mode": {
    "name": "ipython",
    "version": 3
   },
   "file_extension": ".py",
   "mimetype": "text/x-python",
   "name": "python",
   "nbconvert_exporter": "python",
   "pygments_lexer": "ipython3",
   "version": "3.8.5"
  }
 },
 "nbformat": 4,
 "nbformat_minor": 4
}
