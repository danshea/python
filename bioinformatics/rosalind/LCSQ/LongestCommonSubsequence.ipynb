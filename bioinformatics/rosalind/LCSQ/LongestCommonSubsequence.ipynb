{
 "cells": [
  {
   "cell_type": "markdown",
   "metadata": {},
   "source": [
    "Dan Shea  \n",
    "2021-06-02  \n",
    "#### Rosalind problem LCSQ\n",
    "\n",
    "http://rosalind.info/problems/lcsq/\n",
    "\n",
    "##### Problem\n",
    "A string $u$ is a common subsequence of strings $s$ and $t$ if the symbols of $u$ appear in order as a subsequence of both $s$ and $t$.\n",
    "\n",
    "For example, `ACTG` is a common subsequence of `AACCTTGG` and `ACACTGTGA`.\n",
    "\n",
    "Analogously to the definition of longest common substring, $u$ is a longest common subsequence of $s$ and $t$ if there does not exist a longer common subsequence of the two strings. Continuing our above example, `ACCTTG` is a longest common subsequence of `AACCTTGG` and `ACACTGTGA`, as is `AACTGG`.\n",
    "\n",
    "__Given:__ Two DNA strings $s$ and $t$ (each having length at most 1 kbp) in FASTA format.\n",
    "\n",
    "__Return:__ A longest common subsequence of $s$ and $t$. (If more than one solution exists, you may return any one.)\n",
    "\n",
    "##### Sample Dataset\n",
    "```\n",
    ">Rosalind_23\n",
    "AACCTTGG\n",
    ">Rosalind_64\n",
    "ACACTGTGA\n",
    "```\n",
    "##### Sample Output\n",
    "```\n",
    "ACCTGG\n",
    "```"
   ]
  },
  {
   "cell_type": "code",
   "execution_count": 1,
   "metadata": {},
   "outputs": [],
   "source": [
    "from Bio import SeqIO\n",
    "import numpy as np"
   ]
  },
  {
   "cell_type": "code",
   "execution_count": 2,
   "metadata": {},
   "outputs": [],
   "source": [
    "# create scoring matrix O(len(A)*len(B))\n",
    "def compute_scores(A, B):\n",
    "    # Scoring matrix to be filled out\n",
    "    scoring_matrix = np.zeros((len(A)+1, len(B)+1))\n",
    "    # The first row and column are 0-filled so our comparison indices start at 1\n",
    "    ridx=1\n",
    "    for a in A:\n",
    "        cidx=1\n",
    "        for b in B:\n",
    "            if a == b:\n",
    "                scoring_matrix[ridx,cidx] = scoring_matrix[ridx-1,cidx-1] + 1\n",
    "            else:\n",
    "                scoring_matrix[ridx,cidx] = max(scoring_matrix[ridx,cidx-1], scoring_matrix[ridx-1,cidx])\n",
    "            cidx += 1\n",
    "        ridx += 1\n",
    "    return scoring_matrix"
   ]
  },
  {
   "cell_type": "code",
   "execution_count": 3,
   "metadata": {},
   "outputs": [
    {
     "data": {
      "text/plain": [
       "array([[0., 0., 0., 0., 0., 0., 0., 0., 0., 0.],\n",
       "       [0., 1., 1., 1., 1., 1., 1., 1., 1., 1.],\n",
       "       [0., 1., 1., 2., 2., 2., 2., 2., 2., 2.],\n",
       "       [0., 1., 2., 2., 3., 3., 3., 3., 3., 3.],\n",
       "       [0., 1., 2., 2., 3., 3., 3., 3., 3., 3.],\n",
       "       [0., 1., 2., 2., 3., 4., 4., 4., 4., 4.],\n",
       "       [0., 1., 2., 2., 3., 4., 4., 5., 5., 5.],\n",
       "       [0., 1., 2., 2., 3., 4., 5., 5., 6., 6.],\n",
       "       [0., 1., 2., 2., 3., 4., 5., 5., 6., 6.]])"
      ]
     },
     "execution_count": 3,
     "metadata": {},
     "output_type": "execute_result"
    }
   ],
   "source": [
    "compute_scores('AACCTTGG', 'ACACTGTGA')"
   ]
  },
  {
   "cell_type": "code",
   "execution_count": 4,
   "metadata": {},
   "outputs": [],
   "source": [
    "# Reconstruct the LCS by walking backwards through the matrix\n",
    "def construct_lcs(A, B, scoring_matrix):\n",
    "    lcs = []\n",
    "    # We start in the lower right corner of the matrix\n",
    "    ridx, cidx = scoring_matrix.shape\n",
    "    ridx -= 1\n",
    "    cidx -= 1\n",
    "    while (ridx != 0) and (cidx != 0):\n",
    "        if A[ridx-1] == B[cidx-1]:\n",
    "            lcs.append(A[ridx-1])\n",
    "            ridx -= 1\n",
    "            cidx -= 1\n",
    "        else:\n",
    "            ridx, cidx, score = max((ridx,cidx-1,scoring_matrix[ridx,cidx-1]),(ridx-1,cidx,scoring_matrix[ridx-1,cidx]),key=lambda x: x[2])\n",
    "    return ''.join(reversed(lcs))"
   ]
  },
  {
   "cell_type": "code",
   "execution_count": 5,
   "metadata": {},
   "outputs": [],
   "source": [
    "def compute_lcs(A,B):\n",
    "    scoring_matrix = compute_scores(A, B)\n",
    "    lcs = construct_lcs(A, B, scoring_matrix)\n",
    "    return lcs"
   ]
  },
  {
   "cell_type": "code",
   "execution_count": 6,
   "metadata": {},
   "outputs": [
    {
     "data": {
      "text/plain": [
       "'ACCTGG'"
      ]
     },
     "execution_count": 6,
     "metadata": {},
     "output_type": "execute_result"
    }
   ],
   "source": [
    "compute_lcs('AACCTTGG', 'ACACTGTGA')"
   ]
  },
  {
   "cell_type": "code",
   "execution_count": 7,
   "metadata": {},
   "outputs": [],
   "source": [
    "def parse_input_print_result(filename):\n",
    "    seqio = SeqIO.parse(filename, 'fasta')\n",
    "    A = next(seqio).seq\n",
    "    B = next(seqio).seq\n",
    "    return compute_lcs(A, B)"
   ]
  },
  {
   "cell_type": "code",
   "execution_count": 8,
   "metadata": {},
   "outputs": [
    {
     "data": {
      "text/plain": [
       "'TGCGGTAGTGATGACTTTAACAACGGCTCAATTTAGTCTAAGGGGGGACTCACCATATCTGCCTCTTATGCTCAGTTGTAGGACTCCAGTCTACGAACTGGCTAATTGAGTAGGGGGCCCATAGTAGGTGGCATGGTGGCGTATAAGAGCCCGAGCGCCAACTAGTAGTGCCCTTGGACGGACTTAATGACAGATAAATGTTGGGGTTCATTAGCAACATCCAAGTTCTAAAAGGGAATCCTATAATCTCCATTACTCTTTACCTCGGTTGATCGTTCGTAGAAGTACGCCCCACACCTAACACTAAGGATTTGTGTTGGTTTTAACTAATCAGATGCAATGATTGAACCCGTGCGTATTTGCGCTAAACGATACACCCGCTATGAATTAACAGTTTTTTCGTAAAGGTTTCGAGTCCGTTAACGAAGAGGCGACATGGGGCAGCAGGCTATGTGCGGGCGGGTATGTTTTGTTACGCCCCCAGATTGTTAATGAACAAGGGCCAGTGGGCCAACAGAGCCTCCGCGAATGGAGCTCGCCAGTTGGGCAGGAT'"
      ]
     },
     "execution_count": 8,
     "metadata": {},
     "output_type": "execute_result"
    }
   ],
   "source": [
    "parse_input_print_result('rosalind_lcsq.txt')"
   ]
  },
  {
   "cell_type": "code",
   "execution_count": null,
   "metadata": {},
   "outputs": [],
   "source": []
  }
 ],
 "metadata": {
  "kernelspec": {
   "display_name": "Python 3",
   "language": "python",
   "name": "python3"
  },
  "language_info": {
   "codemirror_mode": {
    "name": "ipython",
    "version": 3
   },
   "file_extension": ".py",
   "mimetype": "text/x-python",
   "name": "python",
   "nbconvert_exporter": "python",
   "pygments_lexer": "ipython3",
   "version": "3.8.5"
  }
 },
 "nbformat": 4,
 "nbformat_minor": 4
}
