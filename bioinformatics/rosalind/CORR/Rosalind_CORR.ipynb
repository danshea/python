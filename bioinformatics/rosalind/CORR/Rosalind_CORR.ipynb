{
 "cells": [
  {
   "cell_type": "markdown",
   "metadata": {},
   "source": [
    "Dan Shea  \n",
    "2021-06-22  \n",
    "\n",
    "#### Problem\n",
    "As is the case with point mutations, the most common type of sequencing error occurs when a single nucleotide from a read is interpreted incorrectly.\n",
    "\n",
    "__Given:__ A collection of up to 1000 reads of equal length (at most 50 bp) in FASTA format. Some of these reads were generated with a single-nucleotide error. For each read $s$ in the dataset, one of the following applies:\n",
    "\n",
    "$s$ was correctly sequenced and appears in the dataset at least twice (possibly as a reverse complement);  \n",
    "$s$ is incorrect, it appears in the dataset exactly once, and its Hamming distance is $1$ with respect to _exactly one correct read_ in the dataset (or its reverse complement).\n",
    "\n",
    "__Return:__ A list of all corrections in the form `[old read]->[new read]`. (Each correction must be a single symbol substitution, and you may return the corrections in any order.)\n",
    "\n",
    "##### Sample Dataset\n",
    "```\n",
    ">Rosalind_52\n",
    "TCATC\n",
    ">Rosalind_44\n",
    "TTCAT\n",
    ">Rosalind_68\n",
    "TCATC\n",
    ">Rosalind_28\n",
    "TGAAA\n",
    ">Rosalind_95\n",
    "GAGGA\n",
    ">Rosalind_66\n",
    "TTTCA\n",
    ">Rosalind_33\n",
    "ATCAA\n",
    ">Rosalind_21\n",
    "TTGAT\n",
    ">Rosalind_18\n",
    "TTTCC\n",
    "```\n",
    "##### Sample Output\n",
    "```\n",
    "TTCAT->TTGAT\n",
    "GAGGA->GATGA\n",
    "TTTCC->TTTCA\n",
    "```"
   ]
  },
  {
   "cell_type": "code",
   "execution_count": 1,
   "metadata": {},
   "outputs": [],
   "source": [
    "from Bio import SeqIO"
   ]
  },
  {
   "cell_type": "code",
   "execution_count": 2,
   "metadata": {},
   "outputs": [],
   "source": [
    "def parse_input(filename):\n",
    "    with open(filename, 'r') as fh:\n",
    "        sequences = list(SeqIO.parse(fh, 'fasta'))\n",
    "        return sequences"
   ]
  },
  {
   "cell_type": "code",
   "execution_count": 3,
   "metadata": {},
   "outputs": [],
   "source": [
    "def hamming(a, b):\n",
    "    l = len(a)\n",
    "    d = 0\n",
    "    for i in range(l):\n",
    "        if a[i] != b[i]:\n",
    "            d += 1\n",
    "    return d"
   ]
  },
  {
   "cell_type": "code",
   "execution_count": 4,
   "metadata": {},
   "outputs": [],
   "source": [
    "def compute_counts(sequences):\n",
    "    n = len(sequences)\n",
    "    counts = [1] * n\n",
    "    for i in range(n):\n",
    "        for j in range(i+1,n):\n",
    "            if sequences[i].seq == sequences[j].seq:\n",
    "                counts[i] += 1\n",
    "                counts[j] += 1\n",
    "            elif sequences[i].seq == sequences[j].reverse_complement().seq:\n",
    "                counts[i] += 1\n",
    "                counts[j] += 1\n",
    "    return counts"
   ]
  },
  {
   "cell_type": "code",
   "execution_count": 5,
   "metadata": {},
   "outputs": [],
   "source": [
    "def compute_corr(sequences, counts):\n",
    "    n = len(sequences)\n",
    "    no_match_idx = [idx for idx in range(n) if counts[idx] == 1]\n",
    "    correct_idx = [idx for idx in range(n) if counts[idx] > 1]\n",
    "    m = len(no_match_idx)\n",
    "    o = len(correct_idx)\n",
    "    corrections = {}\n",
    "    \n",
    "    def isin_corrections(idx):\n",
    "        if idx in corrections:\n",
    "            return True\n",
    "        if idx in [i[0] for i in corrections.values()]:\n",
    "            return True\n",
    "        return False\n",
    "    \n",
    "    for i in range(m):\n",
    "        for j in range(o):\n",
    "            if no_match_idx[i] == correct_idx[j]:\n",
    "                continue\n",
    "            if no_match_idx[i] in corrections:\n",
    "                break\n",
    "            if hamming(sequences[no_match_idx[i]].seq, sequences[correct_idx[j]].seq) == 1:\n",
    "                corrections[no_match_idx[i]] = (correct_idx[j], False)\n",
    "                break\n",
    "            if hamming(sequences[no_match_idx[i]].seq, sequences[correct_idx[j]].reverse_complement().seq) == 1:\n",
    "                corrections[no_match_idx[i]] = (correct_idx[j], True)\n",
    "                break\n",
    "    return corrections"
   ]
  },
  {
   "cell_type": "code",
   "execution_count": 6,
   "metadata": {},
   "outputs": [],
   "source": [
    "def format_corr(sequences, corrections):\n",
    "    corr = []\n",
    "    for idx in corrections:\n",
    "        from_seq = sequences[idx].seq\n",
    "        revcomp = corrections[idx][1]\n",
    "        to_seq = None\n",
    "        if revcomp:\n",
    "            to_seq = sequences[corrections[idx][0]].reverse_complement().seq\n",
    "        else:\n",
    "            to_seq = sequences[corrections[idx][0]].seq\n",
    "        corr.append(f'{from_seq}->{to_seq}\\n')\n",
    "    return corr"
   ]
  },
  {
   "cell_type": "code",
   "execution_count": 7,
   "metadata": {},
   "outputs": [],
   "source": [
    "def output_corr(corr, filename='ans.txt'):\n",
    "    with open(filename, 'w') as fh:\n",
    "        fh.writelines(corr)"
   ]
  },
  {
   "cell_type": "code",
   "execution_count": 8,
   "metadata": {},
   "outputs": [],
   "source": [
    "def parse_file_print_ans(filename):\n",
    "    sequences = parse_input(filename)\n",
    "    counts = compute_counts(sequences)\n",
    "    corrections = compute_corr(sequences, counts)\n",
    "    corr = format_corr(sequences, corrections)\n",
    "    output_corr(corr)"
   ]
  },
  {
   "cell_type": "code",
   "execution_count": 9,
   "metadata": {},
   "outputs": [],
   "source": [
    "parse_file_print_ans('sample.txt')"
   ]
  },
  {
   "cell_type": "code",
   "execution_count": 10,
   "metadata": {},
   "outputs": [],
   "source": [
    "parse_file_print_ans('rosalind_corr.txt')"
   ]
  },
  {
   "cell_type": "code",
   "execution_count": null,
   "metadata": {},
   "outputs": [],
   "source": []
  }
 ],
 "metadata": {
  "kernelspec": {
   "display_name": "Python 3",
   "language": "python",
   "name": "python3"
  },
  "language_info": {
   "codemirror_mode": {
    "name": "ipython",
    "version": 3
   },
   "file_extension": ".py",
   "mimetype": "text/x-python",
   "name": "python",
   "nbconvert_exporter": "python",
   "pygments_lexer": "ipython3",
   "version": "3.8.5"
  }
 },
 "nbformat": 4,
 "nbformat_minor": 4
}
