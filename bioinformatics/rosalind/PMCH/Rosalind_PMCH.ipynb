{
 "cells": [
  {
   "cell_type": "markdown",
   "metadata": {},
   "source": [
    "Dan Shea  \n",
    "2021-06-14  \n",
    "\n",
    "#### Problem\n",
    "\n",
    "A matching in a graph $G$ is a collection of edges of $G$ for which no node belongs to more than one edge in the collection. If $G$ contains an even number of nodes (say $2n$), then a matching on $G$ is perfect if it contains $n$ edges, which is clearly the maximum possible.\n",
    "\n",
    "First, let $K_n$ denote the complete graph on $2n$ labeled nodes, in which every node is connected to every other node with an edge, and let $p_n$ denote the total number of perfect matchings in $K_n$. For a given node $x$, there are $2n−1$ ways to join $x$ to the other nodes in the graph, after which point we must form a perfect matching on the remaining $2n−2$ nodes. This reasoning provides us with the recurrence relation $p_{n}=(2n−1)⋅p_{n}−1$; using the fact that $p_1$ is $1$, this recurrence relation implies the closed equation $p_{n}=(2n−1)(2n−3)(2n−5)\\cdots(3)(1)$.\n",
    "\n",
    "Given an RNA string $s = s_{1} \\ldots s_{n}$, a bonding graph for $s$ is formed as follows. First, assign each symbol of $s$ to a node, and arrange these nodes in order around a circle, connecting them with edges called adjacency edges. Second, form all possible edges ${A, U}$ and ${C, G}$, called basepair edges.\n",
    "\n",
    "Note that a matching contained in the basepair edges will represent one possibility for base pairing interactions in $s$. For such a matching to exist, $s$ must have the same number of occurrences of 'A' as 'U' and the same number of occurrences of 'C' as 'G'.\n",
    "\n",
    "__Given:__ An RNA string s of length at most 80 bp having the same number of occurrences of 'A' as 'U' and the same number of occurrences of 'C' as 'G'.\n",
    "\n",
    "__Return:__ The total possible number of perfect matchings of basepair edges in the bonding graph of $s$.\n",
    "\n",
    "##### Sample Dataset\n",
    "```\n",
    ">Rosalind_23\n",
    "AGCUAGUCAU\n",
    "```\n",
    "##### Sample Output\n",
    "```\n",
    "12\n",
    "```"
   ]
  },
  {
   "cell_type": "code",
   "execution_count": 1,
   "metadata": {},
   "outputs": [],
   "source": [
    "from Bio import SeqIO\n",
    "def parse_file_print_ans(filename):\n",
    "    with open(filename, 'r') as fh:\n",
    "        seqio = SeqIO.parse(fh, 'fasta')\n",
    "        s = next(seqio).seq\n",
    "        num_A = 0\n",
    "        num_G = 0\n",
    "        for b in s:\n",
    "            if b == 'A':\n",
    "                num_A += 1\n",
    "            if b == 'G':\n",
    "                num_G += 1\n",
    "                \n",
    "        def fac(n):\n",
    "            ans = 1\n",
    "            if n < 2:\n",
    "                return 1\n",
    "            else:\n",
    "                for i in range(2,n+1):\n",
    "                    ans *= i\n",
    "                return ans\n",
    "        \n",
    "        return fac(num_A) * fac(num_G)"
   ]
  },
  {
   "cell_type": "code",
   "execution_count": 2,
   "metadata": {},
   "outputs": [
    {
     "data": {
      "text/plain": [
       "12"
      ]
     },
     "execution_count": 2,
     "metadata": {},
     "output_type": "execute_result"
    }
   ],
   "source": [
    "parse_file_print_ans('sample.txt')"
   ]
  },
  {
   "cell_type": "code",
   "execution_count": 3,
   "metadata": {},
   "outputs": [
    {
     "data": {
      "text/plain": [
       "40990389067797283140009984000000"
      ]
     },
     "execution_count": 3,
     "metadata": {},
     "output_type": "execute_result"
    }
   ],
   "source": [
    "parse_file_print_ans('rosalind_pmch.txt')"
   ]
  },
  {
   "cell_type": "code",
   "execution_count": null,
   "metadata": {},
   "outputs": [],
   "source": []
  }
 ],
 "metadata": {
  "kernelspec": {
   "display_name": "Python 3",
   "language": "python",
   "name": "python3"
  },
  "language_info": {
   "codemirror_mode": {
    "name": "ipython",
    "version": 3
   },
   "file_extension": ".py",
   "mimetype": "text/x-python",
   "name": "python",
   "nbconvert_exporter": "python",
   "pygments_lexer": "ipython3",
   "version": "3.8.5"
  }
 },
 "nbformat": 4,
 "nbformat_minor": 4
}
