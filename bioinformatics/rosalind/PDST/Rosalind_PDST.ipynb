{
 "cells": [
  {
   "cell_type": "markdown",
   "metadata": {},
   "source": [
    "Dan Shea  \n",
    "2021-06-16  \n",
    "\n",
    "#### Problem\n",
    "For two strings $s_1$ and $s_2$ of equal length, the p-distance between them, denoted $d_p(s_1,s_2)$, is the proportion of corresponding symbols that differ between $s_1$ and $s_2$.\n",
    "\n",
    "For a general distance function $d$ on $n$ taxa $s_1,s_2,\\ldots,s_n$ (taxa are often represented by genetic strings), we may encode the distances between pairs of taxa via a distance matrix $D$ in which $D_{i,j}=d(s_i,s_j)$.\n",
    "\n",
    "__Given:__ A collection of $n$ $(n \\leq 10)$ DNA strings $s_1,\\ldots,s_n$ of equal length (at most 1 kbp). Strings are given in FASTA format.\n",
    "\n",
    "__Return:__ The matrix $D$ corresponding to the p-distance $d_p$ on the given strings. As always, note that your answer is allowed an absolute error of $0.001$.\n",
    "\n",
    "##### Sample Dataset\n",
    "```\n",
    ">Rosalind_9499\n",
    "TTTCCATTTA\n",
    ">Rosalind_0942\n",
    "GATTCATTTC\n",
    ">Rosalind_6568\n",
    "TTTCCATTTT\n",
    ">Rosalind_1833\n",
    "GTTCCATTTA\n",
    "```\n",
    "##### Sample Output\n",
    "```\n",
    "0.00000 0.40000 0.10000 0.10000\n",
    "0.40000 0.00000 0.40000 0.30000\n",
    "0.10000 0.40000 0.00000 0.20000\n",
    "0.10000 0.30000 0.20000 0.00000\n",
    "```"
   ]
  },
  {
   "cell_type": "code",
   "execution_count": 1,
   "metadata": {},
   "outputs": [],
   "source": [
    "from Bio import SeqIO"
   ]
  },
  {
   "cell_type": "code",
   "execution_count": 2,
   "metadata": {},
   "outputs": [],
   "source": [
    "import math\n",
    "\n",
    "def compute_d(i, j):\n",
    "    mismatch = 0\n",
    "    for a,b in zip(i, j):\n",
    "        if a != b:\n",
    "            mismatch += 1\n",
    "    return mismatch / len(i)\n",
    "\n",
    "def print_ans(d):\n",
    "    i = int(math.sqrt(len(d)))\n",
    "    for a in range(i):\n",
    "        for b in range(i):\n",
    "            print(f'{d[a*i+b]:0.5f}', end=' ')\n",
    "        print('')\n",
    "\n",
    "def parse_file_print_ans(filename):\n",
    "    with open(filename, 'r') as fh:\n",
    "        seqio = SeqIO.parse(fh, 'fasta')\n",
    "        seqs = [s.seq for s in seqio]\n",
    "        d = [0.0] * len(seqs)**2\n",
    "        for i in range(0, len(seqs)-1):\n",
    "            for j in range(1, len(seqs)):\n",
    "                distance = compute_d(seqs[i], seqs[j])\n",
    "                d[i*len(seqs)+j] = distance\n",
    "                d[j*len(seqs)+i] = distance\n",
    "        print_ans(d)"
   ]
  },
  {
   "cell_type": "code",
   "execution_count": 3,
   "metadata": {},
   "outputs": [
    {
     "name": "stdout",
     "output_type": "stream",
     "text": [
      "0.00000 0.40000 0.10000 0.10000 \n",
      "0.40000 0.00000 0.40000 0.30000 \n",
      "0.10000 0.40000 0.00000 0.20000 \n",
      "0.10000 0.30000 0.20000 0.00000 \n"
     ]
    }
   ],
   "source": [
    "parse_file_print_ans('sample.txt')"
   ]
  },
  {
   "cell_type": "code",
   "execution_count": 4,
   "metadata": {},
   "outputs": [
    {
     "name": "stdout",
     "output_type": "stream",
     "text": [
      "0.00000 0.30277 0.48827 0.46162 0.48294 0.56183 0.60661 0.48721 0.31770 \n",
      "0.30277 0.00000 0.31130 0.55544 0.57356 0.44776 0.50000 0.31663 0.47548 \n",
      "0.48827 0.31130 0.00000 0.61087 0.63966 0.55544 0.58529 0.47761 0.58529 \n",
      "0.46162 0.55544 0.61087 0.00000 0.46162 0.66311 0.68124 0.63539 0.30171 \n",
      "0.48294 0.57356 0.63966 0.46162 0.00000 0.65458 0.67058 0.63966 0.29957 \n",
      "0.56183 0.44776 0.55544 0.66311 0.65458 0.00000 0.50000 0.30810 0.62900 \n",
      "0.60661 0.50000 0.58529 0.68124 0.67058 0.50000 0.00000 0.34328 0.65565 \n",
      "0.48721 0.31663 0.47761 0.63539 0.63966 0.30810 0.34328 0.00000 0.59701 \n",
      "0.31770 0.47548 0.58529 0.30171 0.29957 0.62900 0.65565 0.59701 0.00000 \n"
     ]
    }
   ],
   "source": [
    "parse_file_print_ans('rosalind_pdst.txt')"
   ]
  },
  {
   "cell_type": "code",
   "execution_count": null,
   "metadata": {},
   "outputs": [],
   "source": []
  }
 ],
 "metadata": {
  "kernelspec": {
   "display_name": "Python 3",
   "language": "python",
   "name": "python3"
  },
  "language_info": {
   "codemirror_mode": {
    "name": "ipython",
    "version": 3
   },
   "file_extension": ".py",
   "mimetype": "text/x-python",
   "name": "python",
   "nbconvert_exporter": "python",
   "pygments_lexer": "ipython3",
   "version": "3.8.5"
  }
 },
 "nbformat": 4,
 "nbformat_minor": 4
}
