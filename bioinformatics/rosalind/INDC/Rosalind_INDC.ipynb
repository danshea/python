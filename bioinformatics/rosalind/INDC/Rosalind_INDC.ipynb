{
 "cells": [
  {
   "cell_type": "markdown",
   "metadata": {},
   "source": [
    "Dan Shea  \n",
    "2021-06-19  \n",
    "\n",
    "#### Problem\n",
    "Consider a collection of coin flips. One of the most natural questions we can ask is if we flip a coin $92$ times, what is the probability of obtaining $51$ \"heads\", vs. $27$ \"heads\", vs. $92$ \"heads\"?\n",
    "\n",
    "Each coin flip can be modeled by a uniform random variable in which each of the two outcomes (\"heads\" and \"tails\") has probability equal to $\\frac{1}{2}$. We may assume that these random variables are independent (see \"Independent Alleles\"); in layman's terms, the outcomes of the two coin flips do not influence each other.\n",
    "\n",
    "A binomial random variable $X$ takes a value of $k$ if $n$ consecutive \"coin flips\" result in $k$ total \"heads\" and $n−k$ total \"tails\". We write that as  $X \\in Bin(n,0.5)$.\n",
    "\n",
    "__Given:__ A positive integer $n \\leq 50$.\n",
    "\n",
    "__Return:__ An array $A$ of length $2n$ in which $A[k]$ represents the common logarithm of the probability that two diploid siblings share at least $k$ of their $2n$ chromosomes (we do not consider recombination for now).\n",
    "\n",
    "##### Sample Dataset\n",
    "```\n",
    "5\n",
    "```\n",
    "##### Sample Output\n",
    "```\n",
    "0.000 -0.004 -0.024 -0.082 -0.206 -0.424 -0.765 -1.262 -1.969 -3.010\n",
    "```"
   ]
  },
  {
   "cell_type": "code",
   "execution_count": 1,
   "metadata": {},
   "outputs": [],
   "source": [
    "from math import log, factorial"
   ]
  },
  {
   "cell_type": "code",
   "execution_count": 2,
   "metadata": {},
   "outputs": [],
   "source": [
    "def C(n,r):\n",
    "    '''Returns the number of Combinations of n choose r'''\n",
    "    return factorial(n) // (factorial(r)*factorial(n-r))"
   ]
  },
  {
   "cell_type": "code",
   "execution_count": 3,
   "metadata": {},
   "outputs": [],
   "source": [
    "def Bin(n, k, p):\n",
    "    q = 1 - p\n",
    "    return C(n, k) * p**k * q**(n-k)"
   ]
  },
  {
   "cell_type": "code",
   "execution_count": 4,
   "metadata": {},
   "outputs": [],
   "source": [
    "def calc_prob(n):\n",
    "    diploid = 2*n\n",
    "    probs = [Bin(diploid, k, 0.5) for k in range(0,diploid+1)]\n",
    "    ans = [0.0] * len(probs)\n",
    "    for i in range(len(probs)):\n",
    "        ans[i] = sum(probs[i:])\n",
    "    ans = list(map(lambda x: log(x,10), ans))\n",
    "    return ' '.join([f'{ans[x]:0.3f}' for x in range(1,len(ans))])"
   ]
  },
  {
   "cell_type": "code",
   "execution_count": 5,
   "metadata": {},
   "outputs": [
    {
     "data": {
      "text/plain": [
       "'-0.000 -0.005 -0.024 -0.082 -0.205 -0.424 -0.765 -1.262 -1.969 -3.010'"
      ]
     },
     "execution_count": 5,
     "metadata": {},
     "output_type": "execute_result"
    }
   ],
   "source": [
    "calc_prob(5)"
   ]
  },
  {
   "cell_type": "code",
   "execution_count": 6,
   "metadata": {},
   "outputs": [],
   "source": [
    "def parse_input_print_ans(filename):\n",
    "    with open(filename, 'r') as fh:\n",
    "        n = int(next(fh).strip())\n",
    "        print(calc_prob(n))"
   ]
  },
  {
   "cell_type": "code",
   "execution_count": 7,
   "metadata": {},
   "outputs": [
    {
     "name": "stdout",
     "output_type": "stream",
     "text": [
      "-0.000 -0.005 -0.024 -0.082 -0.205 -0.424 -0.765 -1.262 -1.969 -3.010\n"
     ]
    }
   ],
   "source": [
    "parse_input_print_ans('sample.txt')"
   ]
  },
  {
   "cell_type": "code",
   "execution_count": 8,
   "metadata": {},
   "outputs": [
    {
     "name": "stdout",
     "output_type": "stream",
     "text": [
      "-0.000 -0.000 -0.000 -0.000 -0.000 -0.000 -0.000 -0.000 -0.000 -0.000 -0.000 -0.000 -0.000 -0.000 -0.000 -0.000 -0.000 -0.000 -0.000 -0.000 -0.000 -0.000 -0.000 -0.000 -0.000 -0.000 -0.000 -0.000 -0.001 -0.001 -0.003 -0.005 -0.008 -0.014 -0.023 -0.035 -0.053 -0.077 -0.109 -0.150 -0.202 -0.265 -0.340 -0.430 -0.533 -0.652 -0.788 -0.940 -1.109 -1.296 -1.502 -1.727 -1.971 -2.235 -2.520 -2.826 -3.154 -3.503 -3.875 -4.271 -4.691 -5.135 -5.605 -6.101 -6.624 -7.176 -7.757 -8.369 -9.014 -9.692 -10.405 -11.157 -11.949 -12.784 -13.667 -14.600 -15.590 -16.644 -17.769 -18.979 -20.292 -21.734 -23.357 -25.287\n"
     ]
    }
   ],
   "source": [
    "parse_input_print_ans('rosalind_indc.txt')"
   ]
  },
  {
   "cell_type": "markdown",
   "metadata": {},
   "source": [
    "#### Discussion\n",
    "They're a bit fast and loose with defining things here. For completeness, you would ideally want array $A$ to have a length of $2n+1$ to account for the $k \\geq 0$ case which should always give you $log_{10}(1) = 0.000$\n",
    "\n",
    "However, even though they want an array $A$ of length $2n$ where $k \\in [1,2n]$ you need to make sure in your calculation that you include the case they are omitting, otherwise your probabilities will not sum to $1.0$.\n",
    "\n",
    "This can be seen in my use of `range(0,diploid+1)` in the `calc_prob` function. Where the `probs` list is of length $2n+1$.  \n",
    "In my `return` statement, I simply skip the $k=0$ result when returning the rounded values."
   ]
  },
  {
   "cell_type": "code",
   "execution_count": null,
   "metadata": {},
   "outputs": [],
   "source": []
  }
 ],
 "metadata": {
  "kernelspec": {
   "display_name": "Python 3",
   "language": "python",
   "name": "python3"
  },
  "language_info": {
   "codemirror_mode": {
    "name": "ipython",
    "version": 3
   },
   "file_extension": ".py",
   "mimetype": "text/x-python",
   "name": "python",
   "nbconvert_exporter": "python",
   "pygments_lexer": "ipython3",
   "version": "3.8.5"
  }
 },
 "nbformat": 4,
 "nbformat_minor": 4
}
