{
 "cells": [
  {
   "cell_type": "markdown",
   "metadata": {},
   "source": [
    "Dan Shea  \n",
    "2021-06-02  \n",
    "#### Edit Distance\n",
    "Given two strings $s$ and $t$ (of possibly different lengths), the edit distance $dE(s,t)$ is the minimum number of edit operations needed to transform $s$ into $t$, where an edit operation is defined as the substitution, insertion, or deletion of a single symbol.\n",
    "\n",
    "The latter two operations incorporate the case in which a contiguous interval is inserted into or deleted from a string; such an interval is called a gap. For the purposes of this problem, the insertion or deletion of a gap of length $k$ still counts as $k$ distinct edit operations.\n",
    "\n",
    "__Given:__ Two protein strings $s$ and $t$ in FASTA format (each of length at most 1000 aa).\n",
    "\n",
    "__Return:__ The edit distance $dE(s,t)$.\n",
    "\n",
    "##### Sample Dataset\n",
    "```\n",
    ">Rosalind_39\n",
    "PLEASANTLY\n",
    ">Rosalind_11\n",
    "MEANLY\n",
    "```\n",
    "\n",
    "##### Sample Output\n",
    "```\n",
    "5\n",
    "```"
   ]
  },
  {
   "cell_type": "code",
   "execution_count": 1,
   "metadata": {},
   "outputs": [],
   "source": [
    "import numpy as np\n",
    "def levenshtein(a,b):\n",
    "    if len(a) == 0:\n",
    "        return len(b)\n",
    "    if len(b) == 0:\n",
    "        return len(a)\n",
    "    I,J = len(a)+1,len(b)+1\n",
    "    M = np.zeros((I,J))\n",
    "    for i in range(I):\n",
    "        M[i,0] = i\n",
    "    for j in range(J):\n",
    "        M[0,j] = j\n",
    "    # loop over b\n",
    "    for j, lb in enumerate(b,1):\n",
    "        for i, la in enumerate(a,1):\n",
    "            if la == lb:\n",
    "                cost = 0\n",
    "            else:\n",
    "                cost = 1\n",
    "            M[i,j] = min([M[i,j-1]+1, M[i-1,j]+1, M[i-1,j-1]+cost])\n",
    "    return M[-1,-1]"
   ]
  },
  {
   "cell_type": "code",
   "execution_count": 2,
   "metadata": {},
   "outputs": [],
   "source": [
    "from Bio import SeqIO\n",
    "def parse_input_print_ans(filename):\n",
    "    seqio = SeqIO.parse(filename, 'fasta')\n",
    "    A = next(seqio).seq\n",
    "    B = next(seqio).seq\n",
    "    return int(levenshtein(A, B))"
   ]
  },
  {
   "cell_type": "code",
   "execution_count": 3,
   "metadata": {},
   "outputs": [
    {
     "data": {
      "text/plain": [
       "5"
      ]
     },
     "execution_count": 3,
     "metadata": {},
     "output_type": "execute_result"
    }
   ],
   "source": [
    "parse_input_print_ans('sample.fasta')"
   ]
  },
  {
   "cell_type": "code",
   "execution_count": 4,
   "metadata": {},
   "outputs": [
    {
     "data": {
      "text/plain": [
       "417"
      ]
     },
     "execution_count": 4,
     "metadata": {},
     "output_type": "execute_result"
    }
   ],
   "source": [
    "parse_input_print_ans('rosalind_edit.txt')"
   ]
  },
  {
   "cell_type": "code",
   "execution_count": null,
   "metadata": {},
   "outputs": [],
   "source": []
  }
 ],
 "metadata": {
  "kernelspec": {
   "display_name": "Python 3",
   "language": "python",
   "name": "python3"
  },
  "language_info": {
   "codemirror_mode": {
    "name": "ipython",
    "version": 3
   },
   "file_extension": ".py",
   "mimetype": "text/x-python",
   "name": "python",
   "nbconvert_exporter": "python",
   "pygments_lexer": "ipython3",
   "version": "3.8.5"
  }
 },
 "nbformat": 4,
 "nbformat_minor": 4
}
