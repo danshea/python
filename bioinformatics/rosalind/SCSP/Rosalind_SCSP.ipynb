{
 "cells": [
  {
   "cell_type": "markdown",
   "metadata": {},
   "source": [
    "Dan Shea  \n",
    "2021-06-05  \n",
    "\n",
    "#### Problem\n",
    "A string $s$ is a supersequence of another string $t$ if $s$ contains $t$ as a subsequence.\n",
    "\n",
    "A common supersequence of strings $s$ and $t$ is a string that serves as a supersequence of both $s$ and $t$.  \n",
    "For example, \"GACCTAGGAACTC\" serves as a common supersequence of \"ACGTC\" and \"ATAT\". A shortest common supersequence of $s$ and $t$ is a supersequence for which there does not exist a shorter common supersequence. Continuing our example, \"ACGTACT\" is a shortest common supersequence of \"ACGTC\" and \"ATAT\".\n",
    "\n",
    "__Given:__ Two DNA strings $s$ and $t$.\n",
    "\n",
    "__Return:__ A shortest common supersequence of $s$ and $t$. If multiple solutions exist, you may output any one.\n",
    "\n",
    "##### Sample Dataset\n",
    "```\n",
    "ATCTGAT\n",
    "TGCATA\n",
    "```\n",
    "##### Sample Output\n",
    "```\n",
    "ATGCATGAT\n",
    "```"
   ]
  },
  {
   "cell_type": "code",
   "execution_count": 1,
   "metadata": {},
   "outputs": [],
   "source": [
    "import numpy as np\n",
    "def compute_scores(A, B, match=1, mismatch=-1, gap=0):\n",
    "    scores = np.zeros((len(A)+1, len(B)+1))\n",
    "    scores[:,0] = [-i for i in range(scores.shape[0])]\n",
    "    scores[0,:] = [-j for j in range(scores.shape[1])]\n",
    "    for i in range(1, scores.shape[0]):\n",
    "        for j in range(1, scores.shape[1]):\n",
    "            if A[i-1] == B[j-1]:\n",
    "                scores[i,j] = max(scores[i-1,j-1]+match, scores[i-1,j]+gap, scores[i,j-1]+gap)\n",
    "            else:\n",
    "                scores[i,j] = max(scores[i-1,j-1]+mismatch, scores[i-1,j]+gap, scores[i,j-1]+gap)\n",
    "    return scores\n",
    "\n",
    "def needleman_wunsch(A, B):\n",
    "    if len(A) > len(B):\n",
    "        A,B = B,A\n",
    "    scores = compute_scores(A, B)\n",
    "    i, j = len(A), len(B)\n",
    "    result = []\n",
    "    while (i != 0) and (j != 0):\n",
    "        if A[i-1] == B[j-1]:\n",
    "            i -= 1\n",
    "            j -= 1\n",
    "            result.append(A[i])\n",
    "        else:\n",
    "            i, j, s, c = max((i-1, j, scores[i-1, j], A[i-1]),\n",
    "                             (i, j-1, scores[i, j-1], B[j-1]), key=lambda x: x[2])\n",
    "            result.append(c)\n",
    "    if i == 0:\n",
    "        result += [B[j] for j in range(j-1, -1, -1)]\n",
    "    elif j == 0:\n",
    "        result += [A[i] for i in range(i-1, -1, -1)]\n",
    "    return ''.join(reversed(result))"
   ]
  },
  {
   "cell_type": "code",
   "execution_count": 2,
   "metadata": {},
   "outputs": [
    {
     "data": {
      "text/plain": [
       "'ATCTGCATA'"
      ]
     },
     "execution_count": 2,
     "metadata": {},
     "output_type": "execute_result"
    }
   ],
   "source": [
    "needleman_wunsch('TGCATA', 'ATCTGAT')"
   ]
  },
  {
   "cell_type": "code",
   "execution_count": 3,
   "metadata": {},
   "outputs": [
    {
     "data": {
      "text/plain": [
       "'ATCTGCATA'"
      ]
     },
     "execution_count": 3,
     "metadata": {},
     "output_type": "execute_result"
    }
   ],
   "source": [
    "needleman_wunsch('ATCTGAT', 'TGCATA')"
   ]
  },
  {
   "cell_type": "code",
   "execution_count": 4,
   "metadata": {},
   "outputs": [
    {
     "data": {
      "text/plain": [
       "'ACGTCAT'"
      ]
     },
     "execution_count": 4,
     "metadata": {},
     "output_type": "execute_result"
    }
   ],
   "source": [
    "needleman_wunsch('ACGTC', 'ATAT')"
   ]
  },
  {
   "cell_type": "code",
   "execution_count": 5,
   "metadata": {},
   "outputs": [
    {
     "data": {
      "text/plain": [
       "'ACGTCAT'"
      ]
     },
     "execution_count": 5,
     "metadata": {},
     "output_type": "execute_result"
    }
   ],
   "source": [
    "needleman_wunsch('ATAT', 'ACGTC')"
   ]
  },
  {
   "cell_type": "code",
   "execution_count": 7,
   "metadata": {},
   "outputs": [],
   "source": [
    "def parse_input_print_ans(filename):\n",
    "    with open(filename, 'r') as fh:\n",
    "        A = next(fh).strip()\n",
    "        B = next(fh).strip()\n",
    "        return needleman_wunsch(A, B)"
   ]
  },
  {
   "cell_type": "code",
   "execution_count": 8,
   "metadata": {},
   "outputs": [
    {
     "data": {
      "text/plain": [
       "'ATCTGCATA'"
      ]
     },
     "execution_count": 8,
     "metadata": {},
     "output_type": "execute_result"
    }
   ],
   "source": [
    "parse_input_print_ans('sample.txt')"
   ]
  },
  {
   "cell_type": "code",
   "execution_count": 9,
   "metadata": {},
   "outputs": [
    {
     "data": {
      "text/plain": [
       "'CGTGACTGGGTCCTTGCATCCTCACTGACTCCAGTACGTCATCAGGCCGCAAGCTATTACGCCGTGGGAGTGGTCGAAGTCGTAGTCCCTCGCAACAGTTACGTATTCGCACGCCCTGAGGAGTA'"
      ]
     },
     "execution_count": 9,
     "metadata": {},
     "output_type": "execute_result"
    }
   ],
   "source": [
    "parse_input_print_ans('rosalind_scsp.txt')"
   ]
  },
  {
   "cell_type": "markdown",
   "metadata": {},
   "source": [
    "##### Some notes on this solution\n",
    "Most descriptions of how to solve this problem will tell you that you interleave the letters of $s$ and $t$ into the longest common subsequence of $s$ and $t$. This may tempt you to re-use the previous solution for the LCSQ problem and then try and work out how to perform the interleaving. However, if we re-frame the problem as an alignment problem, we see that the global alignment of $s$ and $t$ using the Needleman-Wunsch algorithm will do this for us in one step.\n",
    "\n",
    "The global alignment will ensure that shared symbols only appear once in the output string, and we can ensure the shortest path by using a couple of tricks when we perform the alignment back-tracking.\n",
    "\n",
    "Right at the beginning before we do anything else we can:\n",
    "- Always ensure the longer of the two strings is the 'B' by swapping them at the beginning if 'A' is logner than 'B'.\n",
    "\n",
    "In the alignment back-tracking portion of the algorithm: \n",
    "- Ensure that we only move diagonal on matches (i.e. - do not allow mismatches)\n",
    "- When the score is tied for the gapping, we always choose to move \"up\" because we set the \"A\" input to be the shorter string which defines the number of rows in the scoring matrix. This ensures we always move back towards the origin in the fewest possible steps because we consume the shorter input and then prepend any leftover nucleotides in the longer input to the beginning of the result.\n",
    "\n",
    "When we backtrack through the scoring matrix, we consume inputs based on the direction we are moving:\n",
    "- If we move diagonally, we may use either the \"A\" or \"B\" value at that position (as they are the same)\n",
    "- If we move up, we use the \"A\" value, likewise we use the \"B\" value if we move left\n",
    "\n",
    "The \"alignment\" is then the shortest common supersequence of the two strings $s$ and $t$."
   ]
  },
  {
   "cell_type": "code",
   "execution_count": null,
   "metadata": {},
   "outputs": [],
   "source": []
  }
 ],
 "metadata": {
  "kernelspec": {
   "display_name": "Python 3",
   "language": "python",
   "name": "python3"
  },
  "language_info": {
   "codemirror_mode": {
    "name": "ipython",
    "version": 3
   },
   "file_extension": ".py",
   "mimetype": "text/x-python",
   "name": "python",
   "nbconvert_exporter": "python",
   "pygments_lexer": "ipython3",
   "version": "3.8.5"
  }
 },
 "nbformat": 4,
 "nbformat_minor": 4
}
