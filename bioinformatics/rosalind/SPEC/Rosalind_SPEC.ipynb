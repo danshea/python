{
 "cells": [
  {
   "cell_type": "markdown",
   "metadata": {},
   "source": [
    "Dan Shea  \n",
    "2021-06-20  \n",
    "\n",
    "#### Problem\n",
    "The prefix spectrum of a weighted string is the collection of all its prefix weights.\n",
    "\n",
    "__Given:__ A list $L$ of $n$ $(n \\leq 100)$ positive real numbers.\n",
    "\n",
    "__Return:__ A protein string of length $n−1$ whose prefix spectrum is equal to $L$ (if multiple solutions exist, you may output any one of them). Consult the monoisotopic mass table.\n",
    "\n",
    "| Amino Acid | Mass |\n",
    "|----|----------|\n",
    "| A | 71.03711 |\n",
    "| C | 103.00919 |\n",
    "| D | 115.02694 |\n",
    "| E | 129.04259 |\n",
    "| F | 147.06841 |\n",
    "| G | 57.02146 |\n",
    "| H | 137.05891 |\n",
    "| I | 113.08406 |\n",
    "| K | 128.09496 |\n",
    "| L | 113.08406 |\n",
    "| M | 131.04049 |\n",
    "| N | 114.04293 |\n",
    "| P | 97.05276 |\n",
    "| Q | 128.05858 |\n",
    "| R | 156.10111 |\n",
    "| S | 87.03203 |\n",
    "| T | 101.04768 |\n",
    "| V | 99.06841 |\n",
    "| W | 186.07931 |\n",
    "| Y | 163.06333  |\n",
    "\n",
    "\n",
    "##### Sample Dataset\n",
    "```\n",
    "3524.8542\n",
    "3710.9335\n",
    "3841.974\n",
    "3970.0326\n",
    "4057.0646\n",
    "```\n",
    "##### Sample Output\n",
    "```\n",
    "WMQS\n",
    "```"
   ]
  },
  {
   "cell_type": "code",
   "execution_count": 1,
   "metadata": {},
   "outputs": [],
   "source": [
    "monoisotopic = {\n",
    "'A': 71.03711,\n",
    "'C': 103.00919,\n",
    "'D': 115.02694,\n",
    "'E': 129.04259,\n",
    "'F': 147.06841,\n",
    "'G': 57.02146,\n",
    "'H': 137.05891,\n",
    "'I': 113.08406,\n",
    "'K': 128.09496,\n",
    "'L': 113.08406,\n",
    "'M': 131.04049,\n",
    "'N': 114.04293,\n",
    "'P': 97.05276,\n",
    "'Q': 128.05858,\n",
    "'R': 156.10111,\n",
    "'S': 87.03203,\n",
    "'T': 101.04768,\n",
    "'V': 99.06841,\n",
    "'W': 186.07931,\n",
    "'Y': 163.06333 ,\n",
    "}\n",
    "\n",
    "# reversed lookup rounded to 2 signifigant digits\n",
    "rev_monoisotopic = {round(value,2):key for key,value in monoisotopic.items()}"
   ]
  },
  {
   "cell_type": "code",
   "execution_count": 2,
   "metadata": {},
   "outputs": [],
   "source": [
    "def compute_differences(L):\n",
    "    diffs = []\n",
    "    b = L[0]\n",
    "    for a in L[1:]:\n",
    "        diffs.append(abs(b-a))\n",
    "        b = a\n",
    "    return list(map(lambda x: round(x, 2), diffs))\n",
    "\n",
    "def perform_lookup(diffs):\n",
    "    prefix = ''\n",
    "    for diff in diffs:\n",
    "        prefix += rev_monoisotopic.get(diff, 'X')\n",
    "    return prefix"
   ]
  },
  {
   "cell_type": "code",
   "execution_count": 3,
   "metadata": {},
   "outputs": [
    {
     "data": {
      "text/plain": [
       "[186.08, 131.04, 128.06, 87.03]"
      ]
     },
     "execution_count": 3,
     "metadata": {},
     "output_type": "execute_result"
    }
   ],
   "source": [
    "compute_differences([3524.8542,3710.9335,3841.974,3970.0326,4057.0646])"
   ]
  },
  {
   "cell_type": "code",
   "execution_count": 4,
   "metadata": {},
   "outputs": [
    {
     "data": {
      "text/plain": [
       "'WMQS'"
      ]
     },
     "execution_count": 4,
     "metadata": {},
     "output_type": "execute_result"
    }
   ],
   "source": [
    "perform_lookup(compute_differences([3524.8542,3710.9335,3841.974,3970.0326,4057.0646]))"
   ]
  },
  {
   "cell_type": "code",
   "execution_count": 5,
   "metadata": {},
   "outputs": [],
   "source": [
    "def parse_file_print_ans(filename):\n",
    "    with open(filename, 'r') as fh:\n",
    "        L = []\n",
    "        for line in fh:\n",
    "            L.append(float(line.strip()))\n",
    "        print(perform_lookup(compute_differences(L)))"
   ]
  },
  {
   "cell_type": "code",
   "execution_count": 6,
   "metadata": {},
   "outputs": [
    {
     "name": "stdout",
     "output_type": "stream",
     "text": [
      "WMQS\n"
     ]
    }
   ],
   "source": [
    "parse_file_print_ans('sample.txt')"
   ]
  },
  {
   "cell_type": "code",
   "execution_count": 7,
   "metadata": {},
   "outputs": [
    {
     "name": "stdout",
     "output_type": "stream",
     "text": [
      "KGFRQEKHSGQVARTKQRHVCLLNQGLPNAHTWNRSGYVVSLPKETWCHHTYLHHSPTALNLHWWVHMFSTMKQLKFRFTEWEVNHLRN\n"
     ]
    }
   ],
   "source": [
    "parse_file_print_ans('rosalind_spec.txt')"
   ]
  },
  {
   "cell_type": "code",
   "execution_count": null,
   "metadata": {},
   "outputs": [],
   "source": []
  }
 ],
 "metadata": {
  "kernelspec": {
   "display_name": "Python 3",
   "language": "python",
   "name": "python3"
  },
  "language_info": {
   "codemirror_mode": {
    "name": "ipython",
    "version": 3
   },
   "file_extension": ".py",
   "mimetype": "text/x-python",
   "name": "python",
   "nbconvert_exporter": "python",
   "pygments_lexer": "ipython3",
   "version": "3.8.5"
  }
 },
 "nbformat": 4,
 "nbformat_minor": 4
}
