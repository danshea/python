{
 "cells": [
  {
   "cell_type": "markdown",
   "metadata": {},
   "source": [
    "Dan Shea  \n",
    "2021-06-15  \n",
    "\n",
    "#### Problem\n",
    "Our aim in this problem is to determine the probability with which a given motif (a known promoter, say) occurs in a randomly constructed genome. Unfortunately, finding this probability is tricky; instead of forming a long genome, we will form a large collection of smaller random strings having the same length as the motif; these smaller strings represent the genome's substrings, which we can then test against our motif.\n",
    "\n",
    "Given a probabilistic event $A$, the complement of $A$ is the collection $A^c$ of outcomes not belonging to $A$. Because $A^c$ takes place precisely when $A$ does not, we may also call $A^c$ \"not A.\"\n",
    "\n",
    "For a simple example, if $A$ is the event that a rolled die is 2 or 4, then $P(A)=\\frac{1}{3}$. $A^c$ is the event that the die is 1, 3, 5, or 6, and $P(A^c)=\\frac{2}{3}$. In general, for any event we will have the identity that $P(A)+P(A^c)=1$.\n",
    "\n",
    "__Given:__ A positive integer $N \\leq 100000$, a number $x$ between $0$ and $1$, and a DNA string $s$ of length at most 10 bp.\n",
    "\n",
    "__Return:__ The probability that if $N$ random DNA strings having the same length as s are constructed with GC-content $x$ (see “Introduction to Random Strings”), then at least one of the strings equals $s$. We allow for the same random string to be created more than once.\n",
    "\n",
    "##### Sample Dataset\n",
    "```\n",
    "90000 0.6\n",
    "ATAGCCGA\n",
    "```\n",
    "##### Sample Output\n",
    "```\n",
    "0.689\n",
    "```"
   ]
  },
  {
   "cell_type": "code",
   "execution_count": 1,
   "metadata": {},
   "outputs": [],
   "source": [
    "def parse_file(filename):\n",
    "    with open(filename, 'r') as fh:\n",
    "        N, gc_content = next(fh).strip().split(' ')\n",
    "        N = int(N)\n",
    "        gc_content = float(gc_content)\n",
    "        kmer = next(fh).strip()\n",
    "        return (N, gc_content, kmer)"
   ]
  },
  {
   "cell_type": "code",
   "execution_count": 2,
   "metadata": {},
   "outputs": [
    {
     "data": {
      "text/plain": [
       "(90000, 0.6, 'ATAGCCGA')"
      ]
     },
     "execution_count": 2,
     "metadata": {},
     "output_type": "execute_result"
    }
   ],
   "source": [
    "parse_file('sample.txt')"
   ]
  },
  {
   "cell_type": "markdown",
   "metadata": {},
   "source": [
    "Binomial Probability of of exactly $x$ successes on $n$ repeated trials in an experiment which has two possible outcomes (commonly called a binomial experiment).\n",
    "$$C\\left(^{n}_{x}\\right)\\cdot p^x \\cdot (1−p)^{n−x}$$\n",
    "We will compute the probability of failing to generate any matching strings equal to $s$.\n",
    "Then, we know the probability of at least 1 success is $1-P(0)$.  \n",
    "Additionally, the combination part of the equation is reduced to 1 and the $p^0$ also reduces to 1, leaving us to just calculate $(1-p)^N$.  \n",
    "We then return $1-(1-p)^N$ to get the probability of at least 1 success."
   ]
  },
  {
   "cell_type": "code",
   "execution_count": 3,
   "metadata": {},
   "outputs": [],
   "source": [
    "def compute_prob(N, gc_content, kmer):\n",
    "    GCprob = gc_content / 2.0\n",
    "    ATprob = (1 - gc_content) / 2.0\n",
    "    kmer_prob = 1\n",
    "    for k in kmer:\n",
    "        if k in ['A','T']:\n",
    "            kmer_prob *= ATprob\n",
    "        else:\n",
    "            kmer_prob *= GCprob\n",
    "    # Compute binomial probability of no successes\n",
    "    print(f'{1-(1-kmer_prob)**N:0.3f}')"
   ]
  },
  {
   "cell_type": "code",
   "execution_count": 4,
   "metadata": {},
   "outputs": [
    {
     "name": "stdout",
     "output_type": "stream",
     "text": [
      "0.689\n"
     ]
    }
   ],
   "source": [
    "compute_prob(*parse_file('sample.txt'))"
   ]
  },
  {
   "cell_type": "code",
   "execution_count": 5,
   "metadata": {},
   "outputs": [
    {
     "name": "stdout",
     "output_type": "stream",
     "text": [
      "0.295\n"
     ]
    }
   ],
   "source": [
    "compute_prob(*parse_file('rosalind_rstr.txt'))"
   ]
  },
  {
   "cell_type": "code",
   "execution_count": null,
   "metadata": {},
   "outputs": [],
   "source": []
  }
 ],
 "metadata": {
  "kernelspec": {
   "display_name": "Python 3",
   "language": "python",
   "name": "python3"
  },
  "language_info": {
   "codemirror_mode": {
    "name": "ipython",
    "version": 3
   },
   "file_extension": ".py",
   "mimetype": "text/x-python",
   "name": "python",
   "nbconvert_exporter": "python",
   "pygments_lexer": "ipython3",
   "version": "3.8.5"
  }
 },
 "nbformat": 4,
 "nbformat_minor": 4
}
