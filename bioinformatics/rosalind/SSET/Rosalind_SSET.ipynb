{
 "cells": [
  {
   "cell_type": "markdown",
   "metadata": {},
   "source": [
    "Dan Shea  \n",
    "2021-06-14  \n",
    "\n",
    "#### Problem\n",
    "A set is the mathematical term for a loose collection of objects, called elements. Examples of sets include $\\{$the moon, the sun, Wilford Brimley$\\}$ and $\\mathcal{R}$, the set containing all real numbers. We even have the empty set, represented by $\\emptyset$ or $\\{\\}$, which contains no elements at all. Two sets are equal when they contain the same elements. In other words, in contrast to permutations, the ordering of the elements of a set is unimportant (_e.g._ - $\\{$the moon, the sun, Wilford Brimley$\\}$ is equivalent to $\\{$Wilford Brimley, the moon, the sun$\\}$). Sets are not allowed to contain duplicate elements, so that $\\{$Wilford Brimley, the sun, the sun$\\}$ is not a set. We have already used sets of 2 elements to represent edges from a graph.\n",
    "\n",
    "A set $A$ is a subset of $B$ if every element of $A$ is also an element of $B$, and we write $A \\subseteq B$. For example, $\\{$the sun, the moon$\\}\\subseteq\\{$the sun, the moon, Wilford Brimley$\\}$, and $\\emptyset$ is a subset of every set (including itself).\n",
    "\n",
    "As illustrated in the biological introduction, we can use subsets to represent the collection of taxa possessing a character. However, the number of applications is endless; for example, an event in probability can now be defined as a subset of the set containing all possible outcomes.\n",
    "\n",
    "Our first question is to count the total number of possible subsets of a given set.\n",
    "\n",
    "__Given:__ A positive integer n (n≤1000).\n",
    "\n",
    "__Return:__ The total number of subsets of {1,2,…,n} modulo 1,000,000.\n",
    "\n",
    "##### Sample Dataset\n",
    "```\n",
    "3\n",
    "```\n",
    "##### Sample Output\n",
    "```\n",
    "8\n",
    "```"
   ]
  },
  {
   "cell_type": "code",
   "execution_count": 1,
   "metadata": {},
   "outputs": [],
   "source": [
    "def parse_file_print_ans(filename):\n",
    "    with open(filename, 'r') as fh:\n",
    "        n = int(next(fh).strip())\n",
    "        print(2**n % 1000000)"
   ]
  },
  {
   "cell_type": "code",
   "execution_count": 2,
   "metadata": {},
   "outputs": [
    {
     "name": "stdout",
     "output_type": "stream",
     "text": [
      "8\n"
     ]
    }
   ],
   "source": [
    "parse_file_print_ans('sample.txt')"
   ]
  },
  {
   "cell_type": "code",
   "execution_count": 3,
   "metadata": {},
   "outputs": [
    {
     "name": "stdout",
     "output_type": "stream",
     "text": [
      "312448\n"
     ]
    }
   ],
   "source": [
    "parse_file_print_ans('rosalind_sset.txt')"
   ]
  },
  {
   "cell_type": "code",
   "execution_count": null,
   "metadata": {},
   "outputs": [],
   "source": []
  }
 ],
 "metadata": {
  "kernelspec": {
   "display_name": "Python 3",
   "language": "python",
   "name": "python3"
  },
  "language_info": {
   "codemirror_mode": {
    "name": "ipython",
    "version": 3
   },
   "file_extension": ".py",
   "mimetype": "text/x-python",
   "name": "python",
   "nbconvert_exporter": "python",
   "pygments_lexer": "ipython3",
   "version": "3.8.5"
  }
 },
 "nbformat": 4,
 "nbformat_minor": 4
}
