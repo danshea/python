{
 "cells": [
  {
   "cell_type": "markdown",
   "metadata": {},
   "source": [
    "Dan Shea  \n",
    "2021-06-14  \n",
    "\n",
    "#### Problem\n",
    "A binary tree is a tree in which each node has degree equal to at most 3. The binary tree will be our main tool in the construction of phylogenies.\n",
    "\n",
    "A rooted tree is a tree in which one node (the root) is set aside to serve as the pinnacle of the tree. A standard graph theory exercise is to verify that for any two nodes of a tree, exactly one path connects the nodes. In a rooted tree, every node $v$ will therefore have a single parent, or the unique node $w$ such that the path from $v$ to the root contains $\\{v,w\\}$. Any other node $x$ adjacent to $v$ is called a child of $v$ because $v$ must be the parent of $x$; note that a node may have multiple children. In other words, a rooted tree possesses an ordered hierarchy from the root down to its leaves, and as a result, we may often view a rooted tree with undirected edges as a directed graph in which each edge is oriented from parent to child. We should already be familiar with this idea; it's how the Rosalind problem tree works!\n",
    "\n",
    "Even though a binary tree can include nodes having degree 2, an unrooted binary tree is defined more specifically: all internal nodes have degree 3. In turn, a rooted binary tree is such that only the root has degree 2 (all other internal nodes have degree 3).\n",
    "\n",
    "__Given:__ A positive integer $n$ ($3 \\leq n \\leq 10000$).\n",
    "\n",
    "__Return:__ The number of internal nodes of any unrooted binary tree having $n$ leaves.\n",
    "\n",
    "##### Sample Dataset\n",
    "```\n",
    "4\n",
    "```\n",
    "##### Sample Output\n",
    "```\n",
    "2\n",
    "```"
   ]
  },
  {
   "cell_type": "code",
   "execution_count": 1,
   "metadata": {},
   "outputs": [],
   "source": [
    "import math\n",
    "\n",
    "def parse_file_print_ans(filename):\n",
    "    with open(filename, 'r') as fh:\n",
    "        n = int(next(fh).strip())\n",
    "        return n-2"
   ]
  },
  {
   "cell_type": "code",
   "execution_count": 2,
   "metadata": {},
   "outputs": [
    {
     "data": {
      "text/plain": [
       "2"
      ]
     },
     "execution_count": 2,
     "metadata": {},
     "output_type": "execute_result"
    }
   ],
   "source": [
    "parse_file_print_ans('sample.txt')"
   ]
  },
  {
   "cell_type": "code",
   "execution_count": 3,
   "metadata": {},
   "outputs": [
    {
     "data": {
      "text/plain": [
       "9826"
      ]
     },
     "execution_count": 3,
     "metadata": {},
     "output_type": "execute_result"
    }
   ],
   "source": [
    "parse_file_print_ans('rosalind_inod.txt')"
   ]
  },
  {
   "cell_type": "markdown",
   "metadata": {},
   "source": [
    "An unrooted binary tree with $n$ leaves has $n-2$ internal nodes.\n",
    "\n",
    "Let $n$ be the number of leaves (_i.e._ - nodes with degree of $1$) _s.t._ $n \\geq 3\\ \\forall\\ n \\in \\mathcal{N}$ \n",
    "\n",
    "For $n=3$ we get $1$ internal node.  \n",
    "For $n=4$ we get $2$ internal nodes.  \n",
    "For $n=5$ we get $3$ internal nodes.  \n",
    "$\\vdots$  \n",
    "$f(n) = n-2$  \n",
    "$f(n) = f(n-1)+1$  \n",
    "For $n=k$ we get $k-2$ internal nodes. (_i.e._ - $f(k) = k-2 = f(k-1)+1 = (k-1)-2+1$)  \n",
    "For $n=k+1$ we get $(k+1)-2$ internal nodes.  \n",
    "_i.e._ - $f(k+1)=(k+1)-2 = f(k)+1 = (k-2)+1$"
   ]
  },
  {
   "cell_type": "code",
   "execution_count": null,
   "metadata": {},
   "outputs": [],
   "source": []
  }
 ],
 "metadata": {
  "kernelspec": {
   "display_name": "Python 3",
   "language": "python",
   "name": "python3"
  },
  "language_info": {
   "codemirror_mode": {
    "name": "ipython",
    "version": 3
   },
   "file_extension": ".py",
   "mimetype": "text/x-python",
   "name": "python",
   "nbconvert_exporter": "python",
   "pygments_lexer": "ipython3",
   "version": "3.8.5"
  }
 },
 "nbformat": 4,
 "nbformat_minor": 4
}
