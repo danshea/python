{
 "cells": [
  {
   "cell_type": "markdown",
   "metadata": {},
   "source": [
    "Dan Shea  \n",
    "2021-06-13  \n",
    "\n",
    "#### Problem\n",
    "\n",
    "An undirected graph is connected if there is a path connecting any two nodes. A tree is a connected (undirected) graph containing no cycles; this definition forces the tree to have a branching structure organized around a central core of nodes, just like its living counterpart.\n",
    "\n",
    "We have already grown familiar with trees in \"Mendel's First Law\", where we introduced the probability tree diagram to visualize the outcomes of a random variable.\n",
    "\n",
    "In the creation of a phylogeny, taxa are encoded by the tree's leaves, or nodes having degree 1. A node of a tree having degree larger than 1 is called an internal node.\n",
    "\n",
    "__Given:__ A positive integer $n$ ($n \\leq 1000$) and an adjacency list corresponding to a graph on $n$ nodes that contains no cycles.\n",
    "\n",
    "__Return:__ The minimum number of edges that can be added to the graph to produce a tree.\n",
    "\n",
    "##### Sample Dataset\n",
    "```\n",
    "10\n",
    "1 2\n",
    "2 8\n",
    "4 10\n",
    "5 9\n",
    "6 10\n",
    "7 9\n",
    "```\n",
    "##### Sample Output\n",
    "```\n",
    "3\n",
    "```"
   ]
  },
  {
   "cell_type": "code",
   "execution_count": 1,
   "metadata": {},
   "outputs": [],
   "source": [
    "from functools import reduce"
   ]
  },
  {
   "cell_type": "code",
   "execution_count": 2,
   "metadata": {},
   "outputs": [],
   "source": [
    "def parse_input(filename):\n",
    "    with open(filename, 'r') as fh:\n",
    "        edges = []\n",
    "        n = int(next(fh).strip())\n",
    "        for line in fh:\n",
    "            line = line.strip()\n",
    "            a,b = line.split(' ')\n",
    "            edges.append((int(a),int(b)))\n",
    "        return (n, edges)"
   ]
  },
  {
   "cell_type": "code",
   "execution_count": 3,
   "metadata": {},
   "outputs": [],
   "source": [
    "def create_sets(n, edges):\n",
    "    sets = []\n",
    "    # Note, we sort the list of edges to ensure that the set construction doesn't yield \n",
    "    # set partitioning due to the order of the edges in the adjacency list\n",
    "    for a,b in sorted(edges):\n",
    "        no_match = True\n",
    "        for s in sets:\n",
    "            if a in s:\n",
    "                s.add(b)\n",
    "                no_match = False\n",
    "                break\n",
    "            if b in s:\n",
    "                s.add(a)\n",
    "                no_match = False\n",
    "                break\n",
    "        if no_match:\n",
    "            sets.append(set([a,b]))\n",
    "    nodes = reduce(set.union, sets)\n",
    "    if len(nodes) != n:\n",
    "        for i in range(1,n+1):\n",
    "            if i not in nodes:\n",
    "                sets.append(set([i]))\n",
    "    return len(sets)-1"
   ]
  },
  {
   "cell_type": "code",
   "execution_count": 4,
   "metadata": {},
   "outputs": [
    {
     "data": {
      "text/plain": [
       "14"
      ]
     },
     "execution_count": 4,
     "metadata": {},
     "output_type": "execute_result"
    }
   ],
   "source": [
    "create_sets(*parse_input('rosalind_tree.txt'))"
   ]
  },
  {
   "cell_type": "code",
   "execution_count": null,
   "metadata": {},
   "outputs": [],
   "source": []
  }
 ],
 "metadata": {
  "kernelspec": {
   "display_name": "Python 3",
   "language": "python",
   "name": "python3"
  },
  "language_info": {
   "codemirror_mode": {
    "name": "ipython",
    "version": 3
   },
   "file_extension": ".py",
   "mimetype": "text/x-python",
   "name": "python",
   "nbconvert_exporter": "python",
   "pygments_lexer": "ipython3",
   "version": "3.8.5"
  }
 },
 "nbformat": 4,
 "nbformat_minor": 4
}
