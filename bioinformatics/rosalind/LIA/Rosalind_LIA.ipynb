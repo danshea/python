{
 "cells": [
  {
   "cell_type": "markdown",
   "metadata": {},
   "source": [
    "#### Problem\n",
    "\n",
    "Two events $A$ and $B$ are independent if $P(A \\land B)$ is equal to $P(A) \\times Pr(B)$. In other words, the events do not influence each other, so that we may simply calculate each of the individual probabilities separately and then multiply.\n",
    "\n",
    "More generally, random variables $X$ and $Y$ are independent if whenever $A$ and $B$ are respective events for $X$ and $Y$, $A$ and $B$ are independent (i.e., $P(A \\land B) = Pr(A) \\times Pr(B)$).\n",
    "\n",
    "As an example of how helpful independence can be for calculating probabilities, let $X$ and $Y$ represent the numbers showing on two six-sided dice. Intuitively, the number of pips showing on one die should not affect the number showing on the other die. If we want to find the probability that $X+Y$ is odd, then we don't need to draw a tree diagram and consider all possibilities. We simply first note that for $X+Y$ to be odd, either $X$ is even and $Y$ is odd or $X$ is odd and $Y$ is even. In terms of probability, $P((X+Y)_{odd}) = P(X_{even} \\land Y_{odd}) + P(X_{odd} \\land Y_{even})$. Using independence, this becomes $[P(X_{even}) \\times P(Y_{odd})] +[Pr(X_{odd}) \\times Pr(Y_{even})]$, or $\\left(\\frac{1}{2}\\right)^{2} + \\left(\\frac{1}{2}\\right)^{2} = \\frac{1}{2}$.\n",
    "\n",
    "__Given:__ Two positive integers $k$ $(k \\leq 7)$ and $N$ $(N \\leq 2k)$. In this problem, we begin with Tom, who in the $0^{th}$ generation has genotype $Aa Bb$. Tom has two children in the $1^{st}$ generation, each of whom has two children, and so on. Each organism always mates with an organism having genotype $Aa Bb$.\n",
    "\n",
    "__Return:__ The probability that at least $N$ $Aa Bb$ organisms will belong to the $k^{th}$ generation of Tom's family tree (don't count the Aa Bb mates at each level). Assume that Mendel's second law holds for the factors.\n",
    "\n",
    "##### Sample Dataset\n",
    "```\n",
    "2 1\n",
    "```\n",
    "##### Sample Output\n",
    "```\n",
    "0.684\n",
    "```"
   ]
  },
  {
   "cell_type": "code",
   "execution_count": 1,
   "metadata": {},
   "outputs": [],
   "source": [
    "from itertools import product\n",
    "from functools import reduce\n",
    "import operator"
   ]
  },
  {
   "cell_type": "code",
   "execution_count": 2,
   "metadata": {},
   "outputs": [],
   "source": [
    "probs = [operator.mul(*a)*operator.mul(*b) for a,b in list(product(product([0.25,.75], repeat=2), repeat=2))]"
   ]
  },
  {
   "cell_type": "code",
   "execution_count": 3,
   "metadata": {},
   "outputs": [
    {
     "data": {
      "text/plain": [
       "[0.00390625,\n",
       " 0.01171875,\n",
       " 0.01171875,\n",
       " 0.03515625,\n",
       " 0.01171875,\n",
       " 0.03515625,\n",
       " 0.03515625,\n",
       " 0.10546875,\n",
       " 0.01171875,\n",
       " 0.03515625,\n",
       " 0.03515625,\n",
       " 0.10546875,\n",
       " 0.03515625,\n",
       " 0.10546875,\n",
       " 0.10546875,\n",
       " 0.31640625]"
      ]
     },
     "execution_count": 3,
     "metadata": {},
     "output_type": "execute_result"
    }
   ],
   "source": [
    "probs"
   ]
  },
  {
   "cell_type": "code",
   "execution_count": 4,
   "metadata": {},
   "outputs": [
    {
     "data": {
      "text/plain": [
       "0.68359375"
      ]
     },
     "execution_count": 4,
     "metadata": {},
     "output_type": "execute_result"
    }
   ],
   "source": [
    "sum(probs[0:len(probs)-1])"
   ]
  },
  {
   "cell_type": "code",
   "execution_count": 5,
   "metadata": {},
   "outputs": [],
   "source": [
    "# This is not an ideal solution as the complexity of the offspring grows exponentially as k increases\n",
    "def compute_probability(k, N):\n",
    "    offspring = list(product([1,0], repeat=2**k))\n",
    "    cases = list(filter(lambda x: sum(x) >= N, offspring))\n",
    "    formulas = map(lambda x: [0.25 if i == 1 else 0.75 for i in x], cases)\n",
    "    return sum(list(map(lambda x: reduce(operator.mul, x), formulas)))"
   ]
  },
  {
   "cell_type": "code",
   "execution_count": 6,
   "metadata": {},
   "outputs": [
    {
     "data": {
      "text/plain": [
       "0.68359375"
      ]
     },
     "execution_count": 6,
     "metadata": {},
     "output_type": "execute_result"
    }
   ],
   "source": [
    "compute_probability(2, 1)"
   ]
  },
  {
   "cell_type": "code",
   "execution_count": 7,
   "metadata": {},
   "outputs": [
    {
     "data": {
      "text/plain": [
       "0.8998870849609375"
      ]
     },
     "execution_count": 7,
     "metadata": {},
     "output_type": "execute_result"
    }
   ],
   "source": [
    "compute_probability(3, 1)"
   ]
  },
  {
   "cell_type": "code",
   "execution_count": 8,
   "metadata": {},
   "outputs": [
    {
     "data": {
      "text/plain": [
       "0.9899774042423815"
      ]
     },
     "execution_count": 8,
     "metadata": {},
     "output_type": "execute_result"
    }
   ],
   "source": [
    "compute_probability(4, 1)"
   ]
  },
  {
   "cell_type": "code",
   "execution_count": 9,
   "metadata": {},
   "outputs": [],
   "source": [
    "# This is a closed form solution I arrived at when I noticed that I could re-write the cases as p/q combinations that appear C(n,r) times\n",
    "# in generation k, where n = 2**k\n",
    "# Then, we solve that arithmetic series for all j >= N (much faster!)\n",
    "def fac(n):\n",
    "    result = 1\n",
    "    for i in range(2,n+1):\n",
    "        result *= i\n",
    "    return result\n",
    "\n",
    "def choose(n, r):\n",
    "    return fac(n) / (fac(r) * fac(n-r))\n",
    "\n",
    "def better_compute_probability(k, N):\n",
    "    n = 2**k\n",
    "    p = 0.25\n",
    "    q = 1-p\n",
    "    result = 0\n",
    "    j = n\n",
    "    while j >= N:\n",
    "        val = choose(n, j) * p**j * q**(n-j)\n",
    "        result += val\n",
    "        j -= 1\n",
    "    return result"
   ]
  },
  {
   "cell_type": "code",
   "execution_count": 10,
   "metadata": {},
   "outputs": [
    {
     "data": {
      "text/plain": [
       "0.68359375"
      ]
     },
     "execution_count": 10,
     "metadata": {},
     "output_type": "execute_result"
    }
   ],
   "source": [
    "better_compute_probability(2,1)"
   ]
  },
  {
   "cell_type": "code",
   "execution_count": 11,
   "metadata": {},
   "outputs": [],
   "source": [
    "def parse_file_print_ans(filename):\n",
    "    with open(filename, 'r') as fh:\n",
    "        k, N = next(fh).strip().split(' ')\n",
    "        print(f'{better_compute_probability(int(k), int(N)):0.3f}')"
   ]
  },
  {
   "cell_type": "code",
   "execution_count": 12,
   "metadata": {},
   "outputs": [
    {
     "name": "stdout",
     "output_type": "stream",
     "text": [
      "0.684\n"
     ]
    }
   ],
   "source": [
    "parse_file_print_ans('sample.txt')"
   ]
  },
  {
   "cell_type": "code",
   "execution_count": 13,
   "metadata": {},
   "outputs": [
    {
     "name": "stdout",
     "output_type": "stream",
     "text": [
      "0.235\n"
     ]
    }
   ],
   "source": [
    "parse_file_print_ans('rosalind_lia.txt')"
   ]
  },
  {
   "cell_type": "markdown",
   "metadata": {},
   "source": [
    "#### Discussion of the solution\n",
    "The first thing to notice is that every generation always mates with heterozygous (Aa Bb) partners.  \n",
    "\n",
    "If you draw out a Punnett Square, for the different genotypes of the A allele, you will see that the probability of heterozygous offspring is always $0.5$ independent of Tom's progeny's genotype.  \n",
    "\n",
    "From there, we want to determine the probability of both alleles being Heterozygous, so this is simply $0.5 \\times 0.5 = 0.25$.\n",
    "\n",
    "Now, we have two important pieces of information about the problem that we can apply towards formulating a solution.\n",
    "- The prior generation's genotype does not matter\n",
    "- The probability of a double heterozygotic offspring is 0.25\n",
    "\n",
    "This means the probability of all other offspring is $1.0 - 0.25 = 0.75$\n",
    "\n",
    "In a generation $k$ we will have $2^{k}$ offspring.\n",
    "\n",
    "If we write the genotypes as 1 for double-hetero and 0 for all others, we see this can be written as a binary vector where each position in the vector is the genotype of an offspring. And all possible combinations of offspring then become a binary string with $2^k$ bits.\n",
    "\n",
    "As you can see in my first approach, this means the size of the vector increases exponentially with respect to the generation. (e.g. - $k=3$ is $2^{3}$ offspring yielding a vector of $2^{3}$ bits and thus $2^{2^{3}}$ possible binary vectors representing all possible genotype combinations!)\n",
    "\n",
    "However, we can improve upon this if we also note the problem wants probabilities where $\\geq N$ double-hetero offspring are in the family tree at generation $k$.\n",
    "\n",
    "Since the first approach made use of coding double-hetero as $1$, the sum of the vector tells you how many double-hetero offspring are present in that outcome.\n",
    "\n",
    "And we can determine how many outcomes contain a certain number of $1$ values by noticing that this is the same as looking for the combination of $r$ number of $1$ values in a $2^{k}$ bit binary vector.\n",
    "\n",
    "Using the sample input $k=2, N=1$ we see the following probabilities:\n",
    "```\n",
    "[0.00390625,\n",
    " 0.01171875,\n",
    " 0.01171875,\n",
    " 0.03515625,\n",
    " 0.01171875,\n",
    " 0.03515625,\n",
    " 0.03515625,\n",
    " 0.10546875,\n",
    " 0.01171875,\n",
    " 0.03515625,\n",
    " 0.03515625,\n",
    " 0.10546875,\n",
    " 0.03515625,\n",
    " 0.10546875,\n",
    " 0.10546875,\n",
    " 0.31640625]\n",
    " ```\n",
    " \n",
    "$C(4,4)$ occurences of `0.00390625` where all $4$ offspring are double-hetero.  \n",
    "$C(4,3)$ occurences of `0.01171875` where $3$ of the offspring are double-hetero.  \n",
    "$\\ldots$\n",
    " \n",
    "We also know the probability that any given position is a $1$ (i.e. - The offspring is a double-hetero.) is $0.25$  \n",
    "And likewise, positions with a $0$ have probability of $1.0 - 0.25 = 0.75$  \n",
    "So we re-write that as:\n",
    "$$P(k,N)=\\sum_{r=N}^{2^{k}}C\\left(^{2^{k}}_{r}\\right) p^{r} q^{2^{k}-r}$$\n",
    " \n",
    "This closed form solution is much faster to calculate than the first approach, and as you can see from the above runs of each, the answers are the same.  \n",
    "In the final function that parses the input and prints a solution we rounded to three decimal places because the example output shows 3 significant digits as the desired output."
   ]
  },
  {
   "cell_type": "code",
   "execution_count": null,
   "metadata": {},
   "outputs": [],
   "source": []
  }
 ],
 "metadata": {
  "kernelspec": {
   "display_name": "Python 3",
   "language": "python",
   "name": "python3"
  },
  "language_info": {
   "codemirror_mode": {
    "name": "ipython",
    "version": 3
   },
   "file_extension": ".py",
   "mimetype": "text/x-python",
   "name": "python",
   "nbconvert_exporter": "python",
   "pygments_lexer": "ipython3",
   "version": "3.8.5"
  }
 },
 "nbformat": 4,
 "nbformat_minor": 4
}
