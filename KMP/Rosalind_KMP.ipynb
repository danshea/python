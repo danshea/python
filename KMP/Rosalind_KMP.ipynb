{
 "cells": [
  {
   "cell_type": "markdown",
   "metadata": {},
   "source": [
    "Dan Shea  \n",
    "2021-06-02  \n",
    "\n",
    "#### Shortening the Motif Search\n",
    "In \"Finding a Motif in DNA\", we discussed the problem of searching a genome for a known motif. Because of the large scale of eukaryotic genomes, we need to accomplish this computational task as efficiently as possible.\n",
    "\n",
    "The standard method for locating one string $t$ as a substring of another string $s$ (and perhaps one you implemented in \"Finding a Motif in DNA\") is to move a sliding window across the larger string, at each step starting at $s[k]$ and matching subsequent symbols of $t$ to symbols of $s$. After we have located a match or mismatch, we then shift the window backwards to begin searching at $s[k+1]$.\n",
    "\n",
    "The potential weakness of this method is as follows: say we have matched $100$ symbols of $t$ to $s$ before reaching a mismatch. The window-sliding method would then move back $99$ symbols of $s$ and start comparing $t$ to $s$; can we avoid some of this sliding?\n",
    "\n",
    "For example, say that we are looking for $t=ACGTACGT$ in $s=TAGGTACGTACGGCATCACG$. From $s[6]$ to $s[12]$, we have matched seven symbols of $t$, and yet $s[13] = G$ produces a mismatch with $t[8] = T$. We don't need to go all the way back to $s[7]$ and start matching with t because $s[7]=C$, $s[8]=G$, and $s[9]=T$ are all different from $t[1]=A$. What about $s[10]$? Because $t[1:4]=t[5:8]=ACGT$, the previous mismatch of $s[13]=G$ and $t[8]=T$ guarantees the same mismatch with $s[13]$ and $t[4]$. Following this analysis, we may advance directly to $s[14]$ and continue sliding our window, without ever having to move it backward.\n",
    "\n",
    "This method can be generalized to form the framework behind the Knuth-Morris-Pratt algorithm (KMP), which was published in 1977 and offers an efficiency boost for determining whether a given motif can be located within a larger string.\n",
    "\n",
    "##### Problem\n",
    "A prefix of a length $n$ string $s$ is a substring $s[1:j]$; a suffix of $s$ is a substring $s[k:n]$.\n",
    "\n",
    "The failure array of $s$ is an array $P$ of length $n$ for which $P[k]$ is the length of the longest substring $s[j:k]$ that is equal to some prefix $s[1:k−j+1]$, where $j$ cannot equal $1$ (otherwise, $P[k]$ would always equal $k$). By convention, $P[1]=0$.\n",
    "\n",
    "__Given:__ A DNA string $s$ (of length at most 100 kbp) in FASTA format.\n",
    "\n",
    "__Return:__ The failure array of $s$.\n",
    "\n",
    "##### Sample Dataset\n",
    "```\n",
    ">Rosalind_87\n",
    "CAGCATGGTATCACAGCAGAG\n",
    "```\n",
    "##### Sample Output\n",
    "```\n",
    "0 0 0 1 2 0 0 0 0 0 0 1 2 1 2 3 4 5 3 0 0\n",
    "```"
   ]
  },
  {
   "cell_type": "code",
   "execution_count": 1,
   "metadata": {},
   "outputs": [],
   "source": [
    "def compute_border(s):\n",
    "    if len(s) < 2:\n",
    "        return 0\n",
    "    prefixes = [s[:i] for i in range(1, len(s))]\n",
    "    suffixes = [s[j:] for j in range(-1, -len(s), -1)]\n",
    "    borders = set(prefixes).intersection(set(suffixes))\n",
    "    if len(borders) == 0:\n",
    "        return 0\n",
    "    else:\n",
    "        return len(sorted(borders, key=lambda x: len(x))[-1])\n",
    "    \n",
    "def compute_failure_array(s):\n",
    "    fa = []\n",
    "    for i in range(1,len(s)+1):\n",
    "        t = s[:i]\n",
    "        fa.append(compute_border(t))\n",
    "    return fa"
   ]
  },
  {
   "cell_type": "code",
   "execution_count": 2,
   "metadata": {},
   "outputs": [
    {
     "data": {
      "text/plain": [
       "[0, 0, 0, 1, 2, 0, 0, 0, 0, 0, 0, 1, 2, 1, 2, 3, 4, 5, 3, 0, 0]"
      ]
     },
     "execution_count": 2,
     "metadata": {},
     "output_type": "execute_result"
    }
   ],
   "source": [
    "compute_failure_array('CAGCATGGTATCACAGCAGAG')"
   ]
  },
  {
   "cell_type": "code",
   "execution_count": 3,
   "metadata": {},
   "outputs": [],
   "source": [
    "import numpy as np\n",
    "def kmpPreprocess(s):\n",
    "    m = len(s)\n",
    "    b = [0]*(m+1)\n",
    "    i = 0\n",
    "    j = -1\n",
    "    b[i] = j\n",
    "    while i < m:\n",
    "        while (j >= 0) and (s[i] != s[j]): \n",
    "            j = b[j]\n",
    "        i += 1 \n",
    "        j += 1\n",
    "        b[i]=j\n",
    "    return b[1:]"
   ]
  },
  {
   "cell_type": "code",
   "execution_count": 4,
   "metadata": {},
   "outputs": [
    {
     "data": {
      "text/plain": [
       "[0, 0, 0, 1, 2, 0, 0, 0, 0, 0, 0, 1, 2, 1, 2, 3, 4, 5, 3, 0, 0]"
      ]
     },
     "execution_count": 4,
     "metadata": {},
     "output_type": "execute_result"
    }
   ],
   "source": [
    "kmpPreprocess('CAGCATGGTATCACAGCAGAG')"
   ]
  },
  {
   "cell_type": "code",
   "execution_count": 5,
   "metadata": {},
   "outputs": [],
   "source": [
    "from Bio import SeqIO\n",
    "def parse_input_print_ans(filename):\n",
    "    with open(filename, 'r') as fh:\n",
    "        seqio = SeqIO.parse(fh, 'fasta')\n",
    "        s = next(seqio).seq\n",
    "        return kmpPreprocess(s)"
   ]
  },
  {
   "cell_type": "code",
   "execution_count": 6,
   "metadata": {},
   "outputs": [
    {
     "data": {
      "text/plain": [
       "[0, 0, 0, 1, 2, 0, 0, 0, 0, 0, 0, 1, 2, 1, 2, 3, 4, 5, 3, 0, 0]"
      ]
     },
     "execution_count": 6,
     "metadata": {},
     "output_type": "execute_result"
    }
   ],
   "source": [
    "parse_input_print_ans('sample.txt')"
   ]
  },
  {
   "cell_type": "code",
   "execution_count": 7,
   "metadata": {},
   "outputs": [],
   "source": [
    "with open('ans.txt', 'w') as fh:\n",
    "    fh.write(' '.join(map(str,parse_input_print_ans('rosalind_kmp.txt'))))"
   ]
  },
  {
   "cell_type": "code",
   "execution_count": null,
   "metadata": {},
   "outputs": [],
   "source": []
  }
 ],
 "metadata": {
  "kernelspec": {
   "display_name": "Python 3",
   "language": "python",
   "name": "python3"
  },
  "language_info": {
   "codemirror_mode": {
    "name": "ipython",
    "version": 3
   },
   "file_extension": ".py",
   "mimetype": "text/x-python",
   "name": "python",
   "nbconvert_exporter": "python",
   "pygments_lexer": "ipython3",
   "version": "3.8.5"
  }
 },
 "nbformat": 4,
 "nbformat_minor": 4
}
