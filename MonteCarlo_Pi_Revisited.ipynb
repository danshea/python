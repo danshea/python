{
 "cells": [
  {
   "cell_type": "markdown",
   "metadata": {},
   "source": [
    "Dan Shea  \n",
    "2021-05-22  \n",
    "#### Using Monte Carlo to estimate $\\pi$ revisited\n",
    "I coded this up about a decade ago in `wxpython` with a gui to illustrate the application of Monte Carlo method to approximate the value $\\pi$.  \n",
    "However, I don't think it runs anymore (as `wxpython` has changed quite a bit in the intervening years).  \n",
    "So Let's run through it again and this time we'll use `ipycanvas` to illustrate the method.  \n",
    "First, let's briefly walk through the experimental setup.  \n",
    "\n",
    "#### Experimental setup\n",
    "If we inscribe a unit circle inside of a unit square and begin to rnadomly throw darts at the defined area, the number of darts that land inside of the circle should roughly be in proportion to the area of the circle to the square. And the more darts we throw, the better our approximation would become.\n",
    "\n",
    "To that end, we can construct the formula as follows:\n",
    "\n",
    "$$\\frac{P_{c}}{P_{s}} = \\frac{A_{c}}{A_{s}} = \\frac{\\pi \\cdot r^{2}}{4 \\cdot r^{2}} = \\frac{\\pi}{4}$$\n",
    "\n",
    "And we know that all of the darts would land inside the square, so that is equal to the total number of darts thrown.  \n",
    "Therefore, we may re-write this to approximate $\\pi$ as follows:\n",
    "\n",
    "$$\\pi \\approx 4 \\cdot \\frac{P_{c}}{P_{total}}$$\n",
    "\n",
    "Since we are on a computer, we'll substitue our darts for points randomly selected from a uniform distribution spanning the coordinates of our square and see what proportion of them land inside the circle in relation to the total number of points drawn. Multiply that by 4 and see if our answer is close to the value of $\\pi$."
   ]
  },
  {
   "cell_type": "code",
   "execution_count": 1,
   "metadata": {},
   "outputs": [],
   "source": [
    "from ipycanvas import MultiCanvas, hold_canvas\n",
    "import numpy as np\n",
    "from time import sleep"
   ]
  },
  {
   "cell_type": "code",
   "execution_count": 2,
   "metadata": {},
   "outputs": [],
   "source": [
    "# Function to draw random (x,y) coordinates of our points\n",
    "def draw_points(size=10000):\n",
    "    return np.random.randint(200, size=(size,2))\n",
    "\n",
    "# function to see if a point lies within the circle\n",
    "def isCircle(coords, center=(99,99), radius=100):\n",
    "    '''\n",
    "    coords is a tuple of (x,y) coordinates of the point\n",
    "    center is a tuple of (x,y) coordinates of the circle center\n",
    "    radius is the radius of the circle\n",
    "    '''\n",
    "    # length of the legs of a right triangle formed by the point and the circle center\n",
    "    a = abs(coords[0] - center[0])\n",
    "    b = abs(coords[1] - center[1])\n",
    "    # If the hypotenuse of that right triangle is shorter than the radius of the circle, we are inside the circle\n",
    "    return np.sqrt(a**2 + b**2) < radius"
   ]
  },
  {
   "cell_type": "code",
   "execution_count": 3,
   "metadata": {},
   "outputs": [
    {
     "data": {
      "text/plain": [
       "3.1556"
      ]
     },
     "execution_count": 3,
     "metadata": {},
     "output_type": "execute_result"
    }
   ],
   "source": [
    "points = draw_points()\n",
    "# We set the size of the square to be 200 pixels on a side in our draw points function, so the circle center is at (99,99) 0-based indices\n",
    "# and the radius is a length of 100\n",
    "results = np.apply_along_axis(isCircle, 1, points)\n",
    "num_circle = results.sum()\n",
    "4 * (num_circle / len(results))"
   ]
  },
  {
   "cell_type": "markdown",
   "metadata": {},
   "source": [
    "#### Our approximation of $\\pi$\n",
    "Above, we can see that our approximation using 10,000 points is not too bad.  \n",
    "Let's use `ipycanvas` to illustrate our experiment and show how the approximation changes as we add more points to the simulation.\n",
    "I will use the same points drawn earlier, but we will step through one point at a time and update out approximation of $\\pi$ as we go."
   ]
  },
  {
   "cell_type": "code",
   "execution_count": 4,
   "metadata": {},
   "outputs": [
    {
     "data": {
      "application/vnd.jupyter.widget-view+json": {
       "model_id": "f479a61fb3cf4fe59ca58973cddbeef9",
       "version_major": 2,
       "version_minor": 0
      },
      "text/plain": [
       "MultiCanvas(height=200, width=800)"
      ]
     },
     "metadata": {},
     "output_type": "display_data"
    }
   ],
   "source": [
    "canvas = MultiCanvas(2, width=800,height=200)\n",
    "canvas[0].line_width = 1.0\n",
    "# Draw the bounding box\n",
    "canvas[0].stroke_style = 'black'\n",
    "canvas[0].stroke_rect(0, 0, 200, 200)\n",
    "# Draw the inscribed circle\n",
    "canvas[0].stroke_style = 'red'\n",
    "canvas[0].stroke_circle(99,99,100)\n",
    "canvas"
   ]
  },
  {
   "cell_type": "code",
   "execution_count": 5,
   "metadata": {},
   "outputs": [],
   "source": [
    "# Place the initial estimate for pi on the canvas\n",
    "canvas[1].fill_style = 'black'\n",
    "canvas[1].font = '18px courier'\n",
    "pi_estimate = 0.0\n",
    "index = 0\n",
    "canvas[1].fill_text(f'estimate: {pi_estimate}', 210, 20)\n",
    "canvas[1].fill_text(f'  points: {index}', 210, 40)"
   ]
  },
  {
   "cell_type": "code",
   "execution_count": 6,
   "metadata": {},
   "outputs": [],
   "source": [
    "for result in results:\n",
    "    with hold_canvas(canvas):\n",
    "        if result == True:\n",
    "            canvas[0].fill_style = 'red'\n",
    "        else:\n",
    "            canvas[0].fill_style = 'black'\n",
    "        canvas[0].fill_rect(points[index][0], points[index][1], 1)\n",
    "        tmp_points_in = results[0:index+1].sum()\n",
    "        pi_estimate = 4 * (tmp_points_in / (index+1))\n",
    "        canvas[1].clear()\n",
    "        canvas[1].fill_text(f'estimate: {pi_estimate}', 210, 20)\n",
    "        index += 1\n",
    "        canvas[1].fill_text(f'  points: {index}', 210, 40)\n",
    "        sleep(0.01)"
   ]
  }
 ],
 "metadata": {
  "kernelspec": {
   "display_name": "Python 3",
   "language": "python",
   "name": "python3"
  },
  "language_info": {
   "codemirror_mode": {
    "name": "ipython",
    "version": 3
   },
   "file_extension": ".py",
   "mimetype": "text/x-python",
   "name": "python",
   "nbconvert_exporter": "python",
   "pygments_lexer": "ipython3",
   "version": "3.8.5"
  }
 },
 "nbformat": 4,
 "nbformat_minor": 4
}
