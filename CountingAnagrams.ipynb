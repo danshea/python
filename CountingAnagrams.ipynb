{
 "cells": [
  {
   "cell_type": "markdown",
   "metadata": {},
   "source": [
    "__Name: Dan Shea__  \n",
    "__Date: 2021-05-08__  \n",
    "\n",
    "##### Problem Description\n",
    "The function `CountingAnagrams(input_string)` take the `input_string` parameter and determines how many anagrams exist in the string.\n",
    "\n",
    "An anagram is a new word that is produced from rearranging the characters in a different word.  \n",
    "\n",
    "For example: cars and arcs are anagrams.  \n",
    "\n",
    "Your program should determine how many anagrams exist in a given string and return the total number.  \n",
    "\n",
    "For example: if str is \"cars are very cool so are arcs and my os\" then your program should return 2 because \"cars\" and \"arcs\" form 1 anagram and \"so\" and \"os\" form a 2nd anagram. The word \"are\" occurs twice in the string but it isn't an anagram because it is the same word just repeated. The string will contain only spaces and lowercase letters, no punctuation, numbers, or uppercase letters.\n",
    "\n",
    "##### Examples\n",
    "Input: cars are very cool so are arcs and my os\n",
    "Output: 2\n",
    "\n",
    "Input: aa aa odg dog gdo\n",
    "Output: 2\n",
    "\n",
    "Input: a c b c run urn urn\n",
    "Output: 1\n",
    "\n",
    "Input: mom omm mmo pop opp\n",
    "Output: 3"
   ]
  },
  {
   "cell_type": "code",
   "execution_count": 1,
   "metadata": {},
   "outputs": [],
   "source": [
    "def CountingAnagrams(input_string):\n",
    "    # split the input string on the spaces into words\n",
    "    words = input_string.split(' ')\n",
    "    # Remove all words of length 1\n",
    "    words = list(filter(lambda x: len(x) > 1, words))\n",
    "    # Remove any duplicate words by converting to set and then back to list\n",
    "    words = list(set(words))\n",
    "    # Generate the sorted word for each word in the list\n",
    "    sorted_words = [''.join(sorted(word)) for word in words]\n",
    "    # For each sorted_word in the list, add it to a dict that contains a count\n",
    "    word_counts = dict()\n",
    "    for key in sorted_words:\n",
    "        if key in word_counts:\n",
    "            word_counts[key] += 1\n",
    "        else:\n",
    "            word_counts[key] = 0\n",
    "    return sum(word_counts.values())"
   ]
  },
  {
   "cell_type": "code",
   "execution_count": 2,
   "metadata": {},
   "outputs": [],
   "source": [
    "CountingAnagrams('cars are very cool so are arcs and my os')"
   ]
  },
  {
   "cell_type": "code",
   "execution_count": 3,
   "metadata": {},
   "outputs": [
    {
     "data": {
      "text/plain": [
       "2"
      ]
     },
     "execution_count": 3,
     "metadata": {},
     "output_type": "execute_result"
    }
   ],
   "source": [
    "CountingAnagrams('aa aa odg dog gdo')"
   ]
  },
  {
   "cell_type": "code",
   "execution_count": 4,
   "metadata": {},
   "outputs": [
    {
     "data": {
      "text/plain": [
       "1"
      ]
     },
     "execution_count": 4,
     "metadata": {},
     "output_type": "execute_result"
    }
   ],
   "source": [
    "CountingAnagrams('a c b c run urn urn')"
   ]
  },
  {
   "cell_type": "code",
   "execution_count": 5,
   "metadata": {},
   "outputs": [
    {
     "data": {
      "text/plain": [
       "3"
      ]
     },
     "execution_count": 5,
     "metadata": {},
     "output_type": "execute_result"
    }
   ],
   "source": [
    "CountingAnagrams('mom omm mmo pop opp')"
   ]
  },
  {
   "cell_type": "markdown",
   "metadata": {},
   "source": [
    "##### Analysis of solution\n",
    "We must sort each word in order to determine which words are anagrams of each other.  \n",
    "This means we are bounded by the speed of the sort operation, which has a worst case performance of $O(n\\ log\\ n)$.  \n",
    "_Note:_ if you are interested in the built-in sorting algorithm used in python, please refer to https://en.wikipedia.org/wiki/Timsort\n",
    "\n",
    "##### Another less optimal solution given below\n",
    "Another option is to construct counters of each string, which will take $O(n^{2})$ due to the `Counter` comparisons.  \n",
    "When we sum up the equivalent Counters, we must be careful to avoid double-counting, which saves us some comparisons at the cost of making the code a bit more dense."
   ]
  },
  {
   "cell_type": "code",
   "execution_count": 6,
   "metadata": {},
   "outputs": [],
   "source": [
    "from collections import Counter"
   ]
  },
  {
   "cell_type": "code",
   "execution_count": 7,
   "metadata": {},
   "outputs": [],
   "source": [
    "def CountingAnagramsTwo(input_string):\n",
    "    # split the input string on the spaces into words\n",
    "    words = input_string.split(' ')\n",
    "    # Remove all words of length 1\n",
    "    words = list(filter(lambda x: len(x) > 1, words))\n",
    "    # Remove any duplicate words by converting to set and then back to list\n",
    "    words = list(set(words))\n",
    "    # Generate the Counter for each word in the list\n",
    "    counters = [Counter(word) for word in words]\n",
    "    # Store our sum\n",
    "    total = 0\n",
    "    # Compare counters for equivalence\n",
    "    while counters:\n",
    "        counter = counters.pop()\n",
    "        for cmpcnt in counters[:]:\n",
    "            if counter == cmpcnt:\n",
    "                total += 1\n",
    "                counters.remove(cmpcnt)\n",
    "    return total"
   ]
  },
  {
   "cell_type": "code",
   "execution_count": 8,
   "metadata": {},
   "outputs": [
    {
     "data": {
      "text/plain": [
       "2"
      ]
     },
     "execution_count": 8,
     "metadata": {},
     "output_type": "execute_result"
    }
   ],
   "source": [
    "CountingAnagramsTwo('cars are very cool so are arcs and my os')"
   ]
  },
  {
   "cell_type": "code",
   "execution_count": 9,
   "metadata": {},
   "outputs": [
    {
     "data": {
      "text/plain": [
       "2"
      ]
     },
     "execution_count": 9,
     "metadata": {},
     "output_type": "execute_result"
    }
   ],
   "source": [
    "CountingAnagramsTwo('aa aa odg dog gdo')"
   ]
  },
  {
   "cell_type": "code",
   "execution_count": 10,
   "metadata": {},
   "outputs": [
    {
     "data": {
      "text/plain": [
       "1"
      ]
     },
     "execution_count": 10,
     "metadata": {},
     "output_type": "execute_result"
    }
   ],
   "source": [
    "CountingAnagramsTwo('a c b c run urn urn')"
   ]
  },
  {
   "cell_type": "code",
   "execution_count": 11,
   "metadata": {},
   "outputs": [
    {
     "data": {
      "text/plain": [
       "3"
      ]
     },
     "execution_count": 11,
     "metadata": {},
     "output_type": "execute_result"
    }
   ],
   "source": [
    "CountingAnagramsTwo('mom omm mmo pop opp')"
   ]
  },
  {
   "cell_type": "markdown",
   "metadata": {},
   "source": [
    "##### Analysis of solution\n",
    "Here, we again see that our solution works and we don't resort to sorting the strings.  \n",
    "However, we should examine our code more closely to see what is going on in this function.\n",
    "\n",
    "Let's use `'a c b c run urn urn'` as our sample input and step through the function.\n",
    "\n",
    "We again first split the input into individual words based on the `' '` delimiter as defined by the problem.  \n",
    "\n",
    "`['a', 'c', 'b', 'c', 'run', 'urn', 'urn']`\n",
    "\n",
    "Then, we filter our input by removing any words of length 1 (as they will never have anagrams that are not just the word itself).  \n",
    "\n",
    "`['run', 'urn', 'urn']`\n",
    "\n",
    "The final filtering step is to remove any duplicate words by first converting to a `set` and then back to a `list`.  \n",
    "\n",
    "`['run', 'urn', 'urn']` becomes `{'run', 'urn'}` and then `['run', 'urn']`\n",
    "\n",
    "We then create a list of `Counter` objects for every word in the list.\n",
    "\n",
    "`[Counter({'r': 1, 'u': 1, 'n': 1}), Counter({'u': 1, 'r': 1, 'n': 1})]`\n",
    "\n",
    "The while loop then loops as long as there are elements in `counters`.\n",
    "\n",
    "We call `pop()` which removes the tail of the list and places it into `counter`\n",
    "\n",
    "`counter = Counter({'u': 1, 'r': 1, 'n': 1})` and `counters = [Counter({'r': 1, 'u': 1, 'n': 1})]`\n",
    "\n",
    "And then, we use a for loop to iterate over a ___copy___ of the `counters` list (_i.e._ - `counters[:]`) and compare our `counter` variable to every element in the copy of the list.\n",
    "\n",
    "We test to see if the `Counter` objects are equivalent (_i.e._ - are anagrams of each other), increasing our total if they are and then removing that matched anagram from our original list the while loop is checking the length of.\n",
    "\n",
    "_Note:_ - the `remove()` method is actually removing the _first occurrence_ of the _value_ passed to it, but for our purposes this is acceptable as we are tallying how many equivalent `Counter` objects are present in the list.\n",
    "\n",
    "So for our example input, the test is performed, the `Counter` objects are equivalent, total is updated to `total=1` and then the `Counter({'r': 1, 'u': 1, 'n': 1})` object is removed fomr the `counters` list.\n",
    "\n",
    "When we return to the top of the while loop the list `counters` is now the empty list and the iteration ends.\n",
    "\n",
    "The function then returns `total`, which has a value of 1.\n",
    "\n",
    "##### Runtime introspection of the function\n",
    "Below, I have added print statements to the function to illustrate the runtime behavior of the function."
   ]
  },
  {
   "cell_type": "code",
   "execution_count": 12,
   "metadata": {},
   "outputs": [],
   "source": [
    "def CountingAnagramsThree(input_string):\n",
    "    print(f'Received \"{input_string}\" as input.')\n",
    "    # split the input string on the spaces into words\n",
    "    words = input_string.split(' ')\n",
    "    print(f'words: {words}')\n",
    "    # Remove all words of length 1\n",
    "    words = list(filter(lambda x: len(x) > 1, words))\n",
    "    print(f'filter len(x) < 1: {words}')\n",
    "    # Remove any duplicate words by converting to set and then back to list\n",
    "    words = list(set(words))\n",
    "    print(f'remove duplicates: {words}')\n",
    "    # Generate the Counter for each word in the list\n",
    "    counters = [Counter(word) for word in words]\n",
    "    print(f'counters: {counters}')\n",
    "    # Store our sum\n",
    "    total = 0\n",
    "    print(f'total: {total}')\n",
    "    # Compare counters for equivalence\n",
    "    while counters:\n",
    "        print('--')\n",
    "        counter = counters.pop()\n",
    "        print(f'counter: {counter}')\n",
    "        for cmpcnt in counters[:]:\n",
    "            print(f'compare to: {cmpcnt}')\n",
    "            if counter == cmpcnt:\n",
    "                total += 1\n",
    "                print(f'total: {total}')\n",
    "                counters.remove(cmpcnt)\n",
    "                print(f'updated counters: {counters}')\n",
    "        print('--')\n",
    "    return total"
   ]
  },
  {
   "cell_type": "code",
   "execution_count": 13,
   "metadata": {},
   "outputs": [
    {
     "name": "stdout",
     "output_type": "stream",
     "text": [
      "Received \"aa aa odg dog gdo\" as input.\n",
      "words: ['aa', 'aa', 'odg', 'dog', 'gdo']\n",
      "filter len(x) < 1: ['aa', 'aa', 'odg', 'dog', 'gdo']\n",
      "remove duplicates: ['odg', 'dog', 'aa', 'gdo']\n",
      "counters: [Counter({'o': 1, 'd': 1, 'g': 1}), Counter({'d': 1, 'o': 1, 'g': 1}), Counter({'a': 2}), Counter({'g': 1, 'd': 1, 'o': 1})]\n",
      "total: 0\n",
      "--\n",
      "counter: Counter({'g': 1, 'd': 1, 'o': 1})\n",
      "compare to: Counter({'o': 1, 'd': 1, 'g': 1})\n",
      "total: 1\n",
      "updated counters: [Counter({'d': 1, 'o': 1, 'g': 1}), Counter({'a': 2})]\n",
      "compare to: Counter({'d': 1, 'o': 1, 'g': 1})\n",
      "total: 2\n",
      "updated counters: [Counter({'a': 2})]\n",
      "compare to: Counter({'a': 2})\n",
      "--\n",
      "--\n",
      "counter: Counter({'a': 2})\n",
      "--\n"
     ]
    },
    {
     "data": {
      "text/plain": [
       "2"
      ]
     },
     "execution_count": 13,
     "metadata": {},
     "output_type": "execute_result"
    }
   ],
   "source": [
    "CountingAnagramsThree('aa aa odg dog gdo')"
   ]
  },
  {
   "cell_type": "code",
   "execution_count": 14,
   "metadata": {},
   "outputs": [
    {
     "name": "stdout",
     "output_type": "stream",
     "text": [
      "Received \"mom omm mmo pop opp\" as input.\n",
      "words: ['mom', 'omm', 'mmo', 'pop', 'opp']\n",
      "filter len(x) < 1: ['mom', 'omm', 'mmo', 'pop', 'opp']\n",
      "remove duplicates: ['pop', 'omm', 'mom', 'mmo', 'opp']\n",
      "counters: [Counter({'p': 2, 'o': 1}), Counter({'m': 2, 'o': 1}), Counter({'m': 2, 'o': 1}), Counter({'m': 2, 'o': 1}), Counter({'p': 2, 'o': 1})]\n",
      "total: 0\n",
      "--\n",
      "counter: Counter({'p': 2, 'o': 1})\n",
      "compare to: Counter({'p': 2, 'o': 1})\n",
      "total: 1\n",
      "updated counters: [Counter({'m': 2, 'o': 1}), Counter({'m': 2, 'o': 1}), Counter({'m': 2, 'o': 1})]\n",
      "compare to: Counter({'m': 2, 'o': 1})\n",
      "compare to: Counter({'m': 2, 'o': 1})\n",
      "compare to: Counter({'m': 2, 'o': 1})\n",
      "--\n",
      "--\n",
      "counter: Counter({'m': 2, 'o': 1})\n",
      "compare to: Counter({'m': 2, 'o': 1})\n",
      "total: 2\n",
      "updated counters: [Counter({'m': 2, 'o': 1})]\n",
      "compare to: Counter({'m': 2, 'o': 1})\n",
      "total: 3\n",
      "updated counters: []\n",
      "--\n"
     ]
    },
    {
     "data": {
      "text/plain": [
       "3"
      ]
     },
     "execution_count": 14,
     "metadata": {},
     "output_type": "execute_result"
    }
   ],
   "source": [
    "CountingAnagramsThree('mom omm mmo pop opp')"
   ]
  },
  {
   "cell_type": "markdown",
   "metadata": {},
   "source": [
    "##### Our less optimal solution is $O(n^{2})$\n",
    "We can see from the runtime analysis, that our updated solution is $O(n^{2})$.  \n",
    "\n",
    "A key take-away from this is that the nested `for` loop is ___operating on a copy___ because we are modifying the list as we iterate over it.  \n",
    "\n",
    "The outer `while` loop is testing the length of the list and removing a single element each iteration.  \n",
    "However, the inner `for` loop _modifies that list_ by removing matching elements and therefore we _must operate on a copy_ to ensure that every element is compared to the first element we popped off the list at the beginning of the `while` loop.\n",
    "\n",
    "##### Best case is $O(n)$\n",
    "For example, if we had passed a list where every word was an anagram of every other word we would compare the first element to every other element in the first for loop and remove those elements as we went. The outer `while` loop would therefore only execute once. And we would perform $n-1$ comparisons and return $n-1$ as our total. (See below)"
   ]
  },
  {
   "cell_type": "code",
   "execution_count": 15,
   "metadata": {},
   "outputs": [
    {
     "name": "stdout",
     "output_type": "stream",
     "text": [
      "Received \"barb arbb rbba bbar brab\" as input.\n",
      "words: ['barb', 'arbb', 'rbba', 'bbar', 'brab']\n",
      "filter len(x) < 1: ['barb', 'arbb', 'rbba', 'bbar', 'brab']\n",
      "remove duplicates: ['brab', 'arbb', 'bbar', 'barb', 'rbba']\n",
      "counters: [Counter({'b': 2, 'r': 1, 'a': 1}), Counter({'b': 2, 'a': 1, 'r': 1}), Counter({'b': 2, 'a': 1, 'r': 1}), Counter({'b': 2, 'a': 1, 'r': 1}), Counter({'b': 2, 'r': 1, 'a': 1})]\n",
      "total: 0\n",
      "--\n",
      "counter: Counter({'b': 2, 'r': 1, 'a': 1})\n",
      "compare to: Counter({'b': 2, 'r': 1, 'a': 1})\n",
      "total: 1\n",
      "updated counters: [Counter({'b': 2, 'a': 1, 'r': 1}), Counter({'b': 2, 'a': 1, 'r': 1}), Counter({'b': 2, 'a': 1, 'r': 1})]\n",
      "compare to: Counter({'b': 2, 'a': 1, 'r': 1})\n",
      "total: 2\n",
      "updated counters: [Counter({'b': 2, 'a': 1, 'r': 1}), Counter({'b': 2, 'a': 1, 'r': 1})]\n",
      "compare to: Counter({'b': 2, 'a': 1, 'r': 1})\n",
      "total: 3\n",
      "updated counters: [Counter({'b': 2, 'a': 1, 'r': 1})]\n",
      "compare to: Counter({'b': 2, 'a': 1, 'r': 1})\n",
      "total: 4\n",
      "updated counters: []\n",
      "--\n"
     ]
    },
    {
     "data": {
      "text/plain": [
       "4"
      ]
     },
     "execution_count": 15,
     "metadata": {},
     "output_type": "execute_result"
    }
   ],
   "source": [
    "CountingAnagramsThree('barb arbb rbba bbar brab')"
   ]
  },
  {
   "cell_type": "markdown",
   "metadata": {},
   "source": [
    "##### Worst case is $O(n^{2})$\n",
    "In our worst case, where no words are anagrams of each other, we have compare every word's `Counter` to every other word's `Counter` in the list."
   ]
  },
  {
   "cell_type": "code",
   "execution_count": 16,
   "metadata": {},
   "outputs": [
    {
     "name": "stdout",
     "output_type": "stream",
     "text": [
      "Received \"there is no anagram here\" as input.\n",
      "words: ['there', 'is', 'no', 'anagram', 'here']\n",
      "filter len(x) < 1: ['there', 'is', 'no', 'anagram', 'here']\n",
      "remove duplicates: ['anagram', 'here', 'is', 'there', 'no']\n",
      "counters: [Counter({'a': 3, 'n': 1, 'g': 1, 'r': 1, 'm': 1}), Counter({'e': 2, 'h': 1, 'r': 1}), Counter({'i': 1, 's': 1}), Counter({'e': 2, 't': 1, 'h': 1, 'r': 1}), Counter({'n': 1, 'o': 1})]\n",
      "total: 0\n",
      "--\n",
      "counter: Counter({'n': 1, 'o': 1})\n",
      "compare to: Counter({'a': 3, 'n': 1, 'g': 1, 'r': 1, 'm': 1})\n",
      "compare to: Counter({'e': 2, 'h': 1, 'r': 1})\n",
      "compare to: Counter({'i': 1, 's': 1})\n",
      "compare to: Counter({'e': 2, 't': 1, 'h': 1, 'r': 1})\n",
      "--\n",
      "--\n",
      "counter: Counter({'e': 2, 't': 1, 'h': 1, 'r': 1})\n",
      "compare to: Counter({'a': 3, 'n': 1, 'g': 1, 'r': 1, 'm': 1})\n",
      "compare to: Counter({'e': 2, 'h': 1, 'r': 1})\n",
      "compare to: Counter({'i': 1, 's': 1})\n",
      "--\n",
      "--\n",
      "counter: Counter({'i': 1, 's': 1})\n",
      "compare to: Counter({'a': 3, 'n': 1, 'g': 1, 'r': 1, 'm': 1})\n",
      "compare to: Counter({'e': 2, 'h': 1, 'r': 1})\n",
      "--\n",
      "--\n",
      "counter: Counter({'e': 2, 'h': 1, 'r': 1})\n",
      "compare to: Counter({'a': 3, 'n': 1, 'g': 1, 'r': 1, 'm': 1})\n",
      "--\n",
      "--\n",
      "counter: Counter({'a': 3, 'n': 1, 'g': 1, 'r': 1, 'm': 1})\n",
      "--\n"
     ]
    },
    {
     "data": {
      "text/plain": [
       "0"
      ]
     },
     "execution_count": 16,
     "metadata": {},
     "output_type": "execute_result"
    }
   ],
   "source": [
    "CountingAnagramsThree('there is no anagram here')"
   ]
  },
  {
   "cell_type": "markdown",
   "metadata": {},
   "source": [
    "This results in $\\sum_{i=1}^{N-1} \\equiv \\frac{N(N-1)}{2}$ comparisons being performed.\n",
    "\n",
    "##### We can examine the worst case complexities of each by plotting them in matplotlib."
   ]
  },
  {
   "cell_type": "code",
   "execution_count": 17,
   "metadata": {},
   "outputs": [],
   "source": [
    "from matplotlib import pyplot as plt\n",
    "import numpy as np"
   ]
  },
  {
   "cell_type": "code",
   "execution_count": 18,
   "metadata": {},
   "outputs": [],
   "source": [
    "%matplotlib inline"
   ]
  },
  {
   "cell_type": "code",
   "execution_count": 19,
   "metadata": {},
   "outputs": [
    {
     "data": {
      "text/plain": [
       "[<matplotlib.lines.Line2D at 0x2871c065280>]"
      ]
     },
     "execution_count": 19,
     "metadata": {},
     "output_type": "execute_result"
    },
    {
     "data": {
      "image/png": "[encoded data removed]",
      "text/plain": [
       "<Figure size 720x360 with 2 Axes>"
      ]
     },
     "metadata": {
      "needs_background": "light"
     },
     "output_type": "display_data"
    }
   ],
   "source": [
    "fig,axs = plt.subplots(nrows=1, ncols=2, figsize=(10,5))\n",
    "fig.suptitle('Runtime analyses')\n",
    "x=range(1,10000)\n",
    "y=np.array(list(map(lambda n: n*(np.log2(n)), x)))\n",
    "axs[0].set_title('O(n log n)')\n",
    "axs[0].plot(x, y)\n",
    "y2 = np.array(list(map(lambda n: n*(n-1) / 2, x)))\n",
    "axs[1].set_title('O(n*(n-1)/2)')\n",
    "axs[1].plot(x, y2)"
   ]
  },
  {
   "cell_type": "code",
   "execution_count": null,
   "metadata": {},
   "outputs": [],
   "source": []
  }
 ],
 "metadata": {
  "kernelspec": {
   "display_name": "Python 3",
   "language": "python",
   "name": "python3"
  },
  "language_info": {
   "codemirror_mode": {
    "name": "ipython",
    "version": 3
   },
   "file_extension": ".py",
   "mimetype": "text/x-python",
   "name": "python",
   "nbconvert_exporter": "python",
   "pygments_lexer": "ipython3",
   "version": "3.8.5"
  }
 },
 "nbformat": 4,
 "nbformat_minor": 4
}
